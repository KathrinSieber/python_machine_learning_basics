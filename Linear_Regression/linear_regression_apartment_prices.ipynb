{
 "cells": [
  {
   "cell_type": "markdown",
   "id": "1e84aff8",
   "metadata": {},
   "source": [
    "# Linear regression to predict prices of rental apartments"
   ]
  },
  {
   "cell_type": "markdown",
   "id": "d9ca506b",
   "metadata": {},
   "source": [
    "## Libraries and settings"
   ]
  },
  {
   "cell_type": "code",
   "execution_count": 1,
   "id": "3cc498a3",
   "metadata": {},
   "outputs": [
    {
     "name": "stdout",
     "output_type": "stream",
     "text": [
      "/workspaces/python_machine_learning_basics/Linear_Regression\n"
     ]
    }
   ],
   "source": [
    "# Libraries\n",
    "import os\n",
    "import numpy as np\n",
    "import pandas as pd\n",
    "import scipy.stats as stats\n",
    "import statsmodels.api as sm\n",
    "import matplotlib.pyplot as plt\n",
    "from sklearn import linear_model\n",
    "from sklearn.model_selection import train_test_split\n",
    "\n",
    "# Ignore warnings\n",
    "import warnings\n",
    "warnings.filterwarnings('ignore')\n",
    "\n",
    "# Show current working directory\n",
    "print(os.getcwd())"
   ]
  },
  {
   "cell_type": "markdown",
   "id": "514d3419",
   "metadata": {},
   "source": [
    "## Import the apartment data"
   ]
  },
  {
   "cell_type": "code",
   "execution_count": 2,
   "id": "fc8846ed",
   "metadata": {},
   "outputs": [
    {
     "name": "stdout",
     "output_type": "stream",
     "text": [
      "(722, 17)\n"
     ]
    },
    {
     "data": {
      "text/html": [
       "<div>\n",
       "<style scoped>\n",
       "    .dataframe tbody tr th:only-of-type {\n",
       "        vertical-align: middle;\n",
       "    }\n",
       "\n",
       "    .dataframe tbody tr th {\n",
       "        vertical-align: top;\n",
       "    }\n",
       "\n",
       "    .dataframe thead th {\n",
       "        text-align: right;\n",
       "    }\n",
       "</style>\n",
       "<table border=\"1\" class=\"dataframe\">\n",
       "  <thead>\n",
       "    <tr style=\"text-align: right;\">\n",
       "      <th></th>\n",
       "      <th>id</th>\n",
       "      <th>address_raw</th>\n",
       "      <th>rooms</th>\n",
       "      <th>area</th>\n",
       "      <th>luxurious</th>\n",
       "      <th>price</th>\n",
       "      <th>price_per_m2</th>\n",
       "      <th>lat</th>\n",
       "      <th>lon</th>\n",
       "      <th>bfs_number</th>\n",
       "      <th>bfs_name</th>\n",
       "      <th>pop</th>\n",
       "      <th>pop_dens</th>\n",
       "      <th>frg_pct</th>\n",
       "      <th>emp</th>\n",
       "      <th>mean_taxable_income</th>\n",
       "      <th>dist_supermarket</th>\n",
       "    </tr>\n",
       "  </thead>\n",
       "  <tbody>\n",
       "    <tr>\n",
       "      <th>0</th>\n",
       "      <td>1693998201-1</td>\n",
       "      <td>Neuhusstrasse 6, 8630 Rüti ZH, ZH</td>\n",
       "      <td>3.0</td>\n",
       "      <td>49</td>\n",
       "      <td>0</td>\n",
       "      <td>1441</td>\n",
       "      <td>29.41</td>\n",
       "      <td>47.252171</td>\n",
       "      <td>8.845797</td>\n",
       "      <td>118</td>\n",
       "      <td>Rüti (ZH)</td>\n",
       "      <td>12286</td>\n",
       "      <td>1221.272366</td>\n",
       "      <td>24.841283</td>\n",
       "      <td>5053</td>\n",
       "      <td>65362.04268</td>\n",
       "      <td>645.652248</td>\n",
       "    </tr>\n",
       "    <tr>\n",
       "      <th>1</th>\n",
       "      <td>1693998233-172</td>\n",
       "      <td>Widacherstrasse 5, 8630 Rüti ZH, ZH</td>\n",
       "      <td>3.0</td>\n",
       "      <td>111</td>\n",
       "      <td>0</td>\n",
       "      <td>2600</td>\n",
       "      <td>23.42</td>\n",
       "      <td>47.252087</td>\n",
       "      <td>8.854919</td>\n",
       "      <td>118</td>\n",
       "      <td>Rüti (ZH)</td>\n",
       "      <td>12286</td>\n",
       "      <td>1221.272366</td>\n",
       "      <td>24.841283</td>\n",
       "      <td>5053</td>\n",
       "      <td>65362.04268</td>\n",
       "      <td>265.102153</td>\n",
       "    </tr>\n",
       "    <tr>\n",
       "      <th>2</th>\n",
       "      <td>1693998256-331</td>\n",
       "      <td>Widenweg 14, 8630 Rüti ZH, ZH</td>\n",
       "      <td>3.0</td>\n",
       "      <td>58</td>\n",
       "      <td>0</td>\n",
       "      <td>1490</td>\n",
       "      <td>25.69</td>\n",
       "      <td>47.253670</td>\n",
       "      <td>8.853993</td>\n",
       "      <td>118</td>\n",
       "      <td>Rüti (ZH)</td>\n",
       "      <td>12286</td>\n",
       "      <td>1221.272366</td>\n",
       "      <td>24.841283</td>\n",
       "      <td>5053</td>\n",
       "      <td>65362.04268</td>\n",
       "      <td>94.401821</td>\n",
       "    </tr>\n",
       "    <tr>\n",
       "      <th>3</th>\n",
       "      <td>1693998265-381</td>\n",
       "      <td>Rain 1, 8630 Rüti ZH, ZH</td>\n",
       "      <td>4.0</td>\n",
       "      <td>118</td>\n",
       "      <td>0</td>\n",
       "      <td>3240</td>\n",
       "      <td>27.46</td>\n",
       "      <td>47.259834</td>\n",
       "      <td>8.851705</td>\n",
       "      <td>118</td>\n",
       "      <td>Rüti (ZH)</td>\n",
       "      <td>12286</td>\n",
       "      <td>1221.272366</td>\n",
       "      <td>24.841283</td>\n",
       "      <td>5053</td>\n",
       "      <td>65362.04268</td>\n",
       "      <td>106.660970</td>\n",
       "    </tr>\n",
       "    <tr>\n",
       "      <th>4</th>\n",
       "      <td>1693998276-419</td>\n",
       "      <td>Bachtelstrasse 24b, 8630 Rüti ZH, ZH</td>\n",
       "      <td>3.0</td>\n",
       "      <td>66</td>\n",
       "      <td>0</td>\n",
       "      <td>1450</td>\n",
       "      <td>21.97</td>\n",
       "      <td>47.266113</td>\n",
       "      <td>8.866872</td>\n",
       "      <td>118</td>\n",
       "      <td>Rüti (ZH)</td>\n",
       "      <td>12286</td>\n",
       "      <td>1221.272366</td>\n",
       "      <td>24.841283</td>\n",
       "      <td>5053</td>\n",
       "      <td>65362.04268</td>\n",
       "      <td>974.844209</td>\n",
       "    </tr>\n",
       "  </tbody>\n",
       "</table>\n",
       "</div>"
      ],
      "text/plain": [
       "               id                           address_raw  rooms  area  \\\n",
       "0    1693998201-1     Neuhusstrasse 6, 8630 Rüti ZH, ZH    3.0    49   \n",
       "1  1693998233-172   Widacherstrasse 5, 8630 Rüti ZH, ZH    3.0   111   \n",
       "2  1693998256-331         Widenweg 14, 8630 Rüti ZH, ZH    3.0    58   \n",
       "3  1693998265-381              Rain 1, 8630 Rüti ZH, ZH    4.0   118   \n",
       "4  1693998276-419  Bachtelstrasse 24b, 8630 Rüti ZH, ZH    3.0    66   \n",
       "\n",
       "   luxurious  price  price_per_m2        lat       lon  bfs_number   bfs_name  \\\n",
       "0          0   1441         29.41  47.252171  8.845797         118  Rüti (ZH)   \n",
       "1          0   2600         23.42  47.252087  8.854919         118  Rüti (ZH)   \n",
       "2          0   1490         25.69  47.253670  8.853993         118  Rüti (ZH)   \n",
       "3          0   3240         27.46  47.259834  8.851705         118  Rüti (ZH)   \n",
       "4          0   1450         21.97  47.266113  8.866872         118  Rüti (ZH)   \n",
       "\n",
       "     pop     pop_dens    frg_pct   emp  mean_taxable_income  dist_supermarket  \n",
       "0  12286  1221.272366  24.841283  5053          65362.04268        645.652248  \n",
       "1  12286  1221.272366  24.841283  5053          65362.04268        265.102153  \n",
       "2  12286  1221.272366  24.841283  5053          65362.04268         94.401821  \n",
       "3  12286  1221.272366  24.841283  5053          65362.04268        106.660970  \n",
       "4  12286  1221.272366  24.841283  5053          65362.04268        974.844209  "
      ]
     },
     "execution_count": 2,
     "metadata": {},
     "output_type": "execute_result"
    }
   ],
   "source": [
    "# Define columns for import\n",
    "columns = [ 'web-scraper-order',\n",
    "            'address_raw',\n",
    "            'rooms',\n",
    "            'area',\n",
    "            'luxurious',\n",
    "            'price',\n",
    "            'price_per_m2',\n",
    "            'lat',\n",
    "            'lon',\n",
    "            'bfs_number',\n",
    "            'bfs_name',\n",
    "            'pop',\n",
    "            'pop_dens',\n",
    "            'frg_pct',\n",
    "            'emp',\n",
    "            'mean_taxable_income',\n",
    "            'dist_supermarket']\n",
    "\n",
    "# Read and select variables\n",
    "df_orig = pd.read_csv(\"./Data/apartments_data_enriched_cleaned.csv\", \n",
    "                      sep=\";\", \n",
    "                      encoding='utf-8')[columns]\n",
    "\n",
    "# Rename variable 'web-scraper-order' to 'apmt_id'\n",
    "df_orig = df_orig.rename(columns={'web-scraper-order': 'id'})\n",
    "\n",
    "# Remove missing values\n",
    "df = df_orig.dropna()\n",
    "df.head(5)\n",
    "\n",
    "# Remove duplicates\n",
    "df = df.drop_duplicates()\n",
    "\n",
    "# Remove some 'extreme' values\n",
    "df = df.loc[(df['price'] >= 1000) & \n",
    "            (df['price'] <= 5000)]\n",
    "\n",
    "print(df.shape)\n",
    "df.head(5)"
   ]
  },
  {
   "cell_type": "markdown",
   "id": "e43dabac",
   "metadata": {},
   "source": [
    "## Simple linear regression (only one explanatory variable in the model)\n",
    "For details see: https://docs.scipy.org/doc/scipy/reference/generated/scipy.stats.linregress.html"
   ]
  },
  {
   "cell_type": "markdown",
   "id": "f2ba09cd",
   "metadata": {},
   "source": [
    "### Create train and test samples (train = 80%, test = 20% of the data)"
   ]
  },
  {
   "cell_type": "code",
   "execution_count": 3,
   "id": "ebba6b44",
   "metadata": {},
   "outputs": [
    {
     "name": "stdout",
     "output_type": "stream",
     "text": [
      "X_train:\n",
      "503    120\n",
      "6       65\n",
      "400     90\n",
      "644     63\n",
      "484     91\n",
      "Name: area, dtype: int64 \n",
      "\n",
      "y_train:\n",
      "503    1900\n",
      "6      1850\n",
      "400    2090\n",
      "644    2102\n",
      "484    1800\n",
      "Name: price, dtype: int64\n"
     ]
    }
   ],
   "source": [
    "# Create train and test samples\n",
    "X_train, X_test, y_train, y_test = train_test_split(df['area'], \n",
    "                                                    df['price'], \n",
    "                                                    test_size=0.20, \n",
    "                                                    random_state=42)\n",
    "# Show X_train\n",
    "print('X_train:')\n",
    "print(X_train.head(), '\\n')\n",
    "\n",
    "# Show y_train\n",
    "print('y_train:')\n",
    "print(y_train.head())"
   ]
  },
  {
   "cell_type": "markdown",
   "id": "0cbcc4ae",
   "metadata": {},
   "source": [
    "Dieser Code führt eine Aufteilung eines Datensatzes in Trainings- und Testdaten durch und zeigt die ersten paar Zeilen der Trainingsdaten an. Hier ist eine detaillierte Erklärung:\n",
    "\n",
    "1. **Datensatzaufteilung**:\n",
    "   ```python\n",
    "   X_train, X_test, y_train, y_test = train_test_split(df['area'], \n",
    "                                                       df['price'], \n",
    "                                                       test_size=0.20, \n",
    "                                                       random_state=42)\n",
    "   ```\n",
    "   - [`train_test_split`](command:_github.copilot.openSymbolFromReferences?%5B%22%22%2C%5B%7B%22uri%22%3A%7B%22scheme%22%3A%22vscode-notebook-cell%22%2C%22authority%22%3A%22codespaces%2Bunhallowed-seance-v6q6444j4vq4cw4gv%22%2C%22path%22%3A%22%2Fworkspaces%2Fpython_machine_learning_basics%2FLinear_Regression%2Flinear_regression_apartment_prices.ipynb%22%2C%22query%22%3A%22%22%2C%22fragment%22%3A%22X10sdnNjb2RlLXJlbW90ZQ%3D%3D%22%7D%2C%22pos%22%3A%7B%22line%22%3A1%2C%22character%22%3A35%7D%7D%5D%2C%22de4fef56-4019-450f-bebe-1dda19f239cd%22%5D \"Go to definition\"): Diese Funktion aus der Bibliothek `sklearn.model_selection` teilt den Datensatz in Trainings- und Testdaten auf.\n",
    "   - [`df['area']`](command:_github.copilot.openSymbolFromReferences?%5B%22%22%2C%5B%7B%22uri%22%3A%7B%22scheme%22%3A%22vscode-notebook-cell%22%2C%22authority%22%3A%22codespaces%2Bunhallowed-seance-v6q6444j4vq4cw4gv%22%2C%22path%22%3A%22%2Fworkspaces%2Fpython_machine_learning_basics%2FLinear_Regression%2Flinear_regression_apartment_prices.ipynb%22%2C%22query%22%3A%22%22%2C%22fragment%22%3A%22X10sdnNjb2RlLXJlbW90ZQ%3D%3D%22%7D%2C%22pos%22%3A%7B%22line%22%3A1%2C%22character%22%3A52%7D%7D%5D%2C%22de4fef56-4019-450f-bebe-1dda19f239cd%22%5D \"Go to definition\"): Dies ist die unabhängige Variable (Feature), die die Fläche der Wohnungen darstellt.\n",
    "   - [`df['price']`](command:_github.copilot.openSymbolFromReferences?%5B%22%22%2C%5B%7B%22uri%22%3A%7B%22scheme%22%3A%22vscode-notebook-cell%22%2C%22authority%22%3A%22codespaces%2Bunhallowed-seance-v6q6444j4vq4cw4gv%22%2C%22path%22%3A%22%2Fworkspaces%2Fpython_machine_learning_basics%2FLinear_Regression%2Flinear_regression_apartment_prices.ipynb%22%2C%22query%22%3A%22%22%2C%22fragment%22%3A%22X10sdnNjb2RlLXJlbW90ZQ%3D%3D%22%7D%2C%22pos%22%3A%7B%22line%22%3A1%2C%22character%22%3A52%7D%7D%5D%2C%22de4fef56-4019-450f-bebe-1dda19f239cd%22%5D \"Go to definition\"): Dies ist die abhängige Variable (Ziel), die die Preise der Wohnungen darstellt.\n",
    "   - [`test_size=0.20`](command:_github.copilot.openSymbolFromReferences?%5B%22%22%2C%5B%7B%22uri%22%3A%7B%22scheme%22%3A%22vscode-notebook-cell%22%2C%22authority%22%3A%22codespaces%2Bunhallowed-seance-v6q6444j4vq4cw4gv%22%2C%22path%22%3A%22%2Fworkspaces%2Fpython_machine_learning_basics%2FLinear_Regression%2Flinear_regression_apartment_prices.ipynb%22%2C%22query%22%3A%22%22%2C%22fragment%22%3A%22X10sdnNjb2RlLXJlbW90ZQ%3D%3D%22%7D%2C%22pos%22%3A%7B%22line%22%3A3%2C%22character%22%3A52%7D%7D%5D%2C%22de4fef56-4019-450f-bebe-1dda19f239cd%22%5D \"Go to definition\"): 20% der Daten werden als Testdaten verwendet, während die restlichen 80% als Trainingsdaten verwendet werden.\n",
    "   - [`random_state=42`](command:_github.copilot.openSymbolFromReferences?%5B%22%22%2C%5B%7B%22uri%22%3A%7B%22scheme%22%3A%22vscode-notebook-cell%22%2C%22authority%22%3A%22codespaces%2Bunhallowed-seance-v6q6444j4vq4cw4gv%22%2C%22path%22%3A%22%2Fworkspaces%2Fpython_machine_learning_basics%2FLinear_Regression%2Flinear_regression_apartment_prices.ipynb%22%2C%22query%22%3A%22%22%2C%22fragment%22%3A%22X10sdnNjb2RlLXJlbW90ZQ%3D%3D%22%7D%2C%22pos%22%3A%7B%22line%22%3A4%2C%22character%22%3A52%7D%7D%5D%2C%22de4fef56-4019-450f-bebe-1dda19f239cd%22%5D \"Go to definition\"): Dies stellt sicher, dass die Aufteilung reproduzierbar ist. Jedes Mal, wenn der Code ausgeführt wird, wird die gleiche Aufteilung erzeugt.\n",
    "\n",
    "2. **Anzeigen der Trainingsdaten**:\n",
    "   ```python\n",
    "   # Show X_train\n",
    "   print('X_train:')\n",
    "   print(X_train.head(), '\\n')\n",
    "   ```\n",
    "   - [`print('X_train:')`](command:_github.copilot.openSymbolFromReferences?%5B%22%22%2C%5B%7B%22uri%22%3A%7B%22scheme%22%3A%22vscode-notebook-cell%22%2C%22authority%22%3A%22codespaces%2Bunhallowed-seance-v6q6444j4vq4cw4gv%22%2C%22path%22%3A%22%2Fworkspaces%2Fpython_machine_learning_basics%2FLinear_Regression%2Flinear_regression_apartment_prices.ipynb%22%2C%22query%22%3A%22%22%2C%22fragment%22%3A%22X10sdnNjb2RlLXJlbW90ZQ%3D%3D%22%7D%2C%22pos%22%3A%7B%22line%22%3A6%2C%22character%22%3A0%7D%7D%5D%2C%22de4fef56-4019-450f-bebe-1dda19f239cd%22%5D \"Go to definition\"): Gibt den Text \"X_train:\" aus.\n",
    "   - [`X_train.head()`](command:_github.copilot.openSymbolFromReferences?%5B%22%22%2C%5B%7B%22uri%22%3A%7B%22scheme%22%3A%22vscode-notebook-cell%22%2C%22authority%22%3A%22codespaces%2Bunhallowed-seance-v6q6444j4vq4cw4gv%22%2C%22path%22%3A%22%2Fworkspaces%2Fpython_machine_learning_basics%2FLinear_Regression%2Flinear_regression_apartment_prices.ipynb%22%2C%22query%22%3A%22%22%2C%22fragment%22%3A%22X10sdnNjb2RlLXJlbW90ZQ%3D%3D%22%7D%2C%22pos%22%3A%7B%22line%22%3A1%2C%22character%22%3A0%7D%7D%5D%2C%22de4fef56-4019-450f-bebe-1dda19f239cd%22%5D \"Go to definition\"): Zeigt die ersten fünf Zeilen der Trainingsdaten für die unabhängige Variable (Fläche) an.\n",
    "\n",
    "3. **Anzeigen der Zielwerte der Trainingsdaten**:\n",
    "   ```python\n",
    "   # Show y_train\n",
    "   print('y_train:')\n",
    "   print(y_train.head())\n",
    "   ```\n",
    "   - [`print('y_train:')`](command:_github.copilot.openSymbolFromReferences?%5B%22%22%2C%5B%7B%22uri%22%3A%7B%22scheme%22%3A%22vscode-notebook-cell%22%2C%22authority%22%3A%22codespaces%2Bunhallowed-seance-v6q6444j4vq4cw4gv%22%2C%22path%22%3A%22%2Fworkspaces%2Fpython_machine_learning_basics%2FLinear_Regression%2Flinear_regression_apartment_prices.ipynb%22%2C%22query%22%3A%22%22%2C%22fragment%22%3A%22X10sdnNjb2RlLXJlbW90ZQ%3D%3D%22%7D%2C%22pos%22%3A%7B%22line%22%3A6%2C%22character%22%3A0%7D%7D%5D%2C%22de4fef56-4019-450f-bebe-1dda19f239cd%22%5D \"Go to definition\"): Gibt den Text \"y_train:\" aus.\n",
    "   - [`y_train.head()`](command:_github.copilot.openSymbolFromReferences?%5B%22%22%2C%5B%7B%22uri%22%3A%7B%22scheme%22%3A%22vscode-notebook-cell%22%2C%22authority%22%3A%22codespaces%2Bunhallowed-seance-v6q6444j4vq4cw4gv%22%2C%22path%22%3A%22%2Fworkspaces%2Fpython_machine_learning_basics%2FLinear_Regression%2Flinear_regression_apartment_prices.ipynb%22%2C%22query%22%3A%22%22%2C%22fragment%22%3A%22X10sdnNjb2RlLXJlbW90ZQ%3D%3D%22%7D%2C%22pos%22%3A%7B%22line%22%3A1%2C%22character%22%3A17%7D%7D%5D%2C%22de4fef56-4019-450f-bebe-1dda19f239cd%22%5D \"Go to definition\"): Zeigt die ersten fünf Zeilen der Trainingsdaten für die abhängige Variable (Preis) an.\n",
    "\n",
    "Zusammengefasst: Der Code teilt den Datensatz in Trainings- und Testdaten auf und zeigt die ersten paar Zeilen der Trainingsdaten für die Fläche und die Preise der Wohnungen an."
   ]
  },
  {
   "cell_type": "markdown",
   "id": "f32a7699",
   "metadata": {},
   "source": [
    "### Fit the simple linear regression model"
   ]
  },
  {
   "cell_type": "code",
   "execution_count": 4,
   "id": "8b2fc4ac",
   "metadata": {},
   "outputs": [
    {
     "name": "stdout",
     "output_type": "stream",
     "text": [
      "Linear regression result:\n",
      "Intercept with y-axis (alpha):            1272.94\n",
      "Slope of regression line (beta):          13.548\n",
      "p-value:                                  0.0000\n",
      "R-squared (coefficient of determination): 0.3678\n"
     ]
    }
   ],
   "source": [
    "# Fit the regression model\n",
    "slope, intercept, r, p, std_err = stats.linregress(X_train, y_train)\n",
    "\n",
    "# Print results of the regression model\n",
    "print('Linear regression result:')\n",
    "print(f'Intercept with y-axis (alpha):            {intercept:.2f}')\n",
    "print(f'Slope of regression line (beta):          {slope:.3f}')\n",
    "print(f'p-value:                                  {p:.4f}')\n",
    "print(f'R-squared (coefficient of determination): {r**2:.4f}')"
   ]
  },
  {
   "cell_type": "markdown",
   "id": "473eaddb",
   "metadata": {},
   "source": [
    "### Plot regression line"
   ]
  },
  {
   "cell_type": "code",
   "execution_count": 5,
   "id": "944adc0b",
   "metadata": {},
   "outputs": [
    {
     "data": {
      "image/png": "[encoded data removed]",
      "text/plain": [
       "<Figure size 600x400 with 1 Axes>"
      ]
     },
     "metadata": {},
     "output_type": "display_data"
    }
   ],
   "source": [
    "# Function to calculate model predictions\n",
    "def myfunc(x):\n",
    "    return slope * x + intercept\n",
    "\n",
    "# Apply myfunc() to x, i.e. make predictions \n",
    "mymodel = pd.Series(map(myfunc, X_train))\n",
    "\n",
    "# Scatterplot with regression line\n",
    "plt.figure(figsize=(6,4))\n",
    "plt.scatter(X_train, y_train, s=10, color='green')\n",
    "plt.plot(X_train, mymodel, color='darkred', linestyle='dashed')\n",
    "plt.title('Simple Linear Regression')\n",
    "plt.xlabel('area (m2)')\n",
    "plt.ylabel('price (CHF)')\n",
    "\n",
    "plt.show()"
   ]
  },
  {
   "cell_type": "markdown",
   "id": "e2085ea7",
   "metadata": {},
   "source": [
    "Dieser Code führt eine lineare Regression durch und gibt die Ergebnisse der Regression aus. Hier ist eine detaillierte Erklärung:\n",
    "\n",
    "1. **Anpassen des Regressionsmodells**:\n",
    "   ```python\n",
    "   slope, intercept, r, p, std_err = stats.linregress(X_train, y_train)\n",
    "   ```\n",
    "   - [`stats.linregress`](https://docs.scipy.org/doc/scipy/reference/generated/scipy.stats.linregress.html): Diese Funktion aus der `scipy.stats`-Bibliothek führt eine einfache lineare Regression durch.\n",
    "   - [`X_train`](command:_github.copilot.openSymbolFromReferences?%5B%22%22%2C%5B%7B%22uri%22%3A%7B%22scheme%22%3A%22vscode-notebook-cell%22%2C%22authority%22%3A%22codespaces%2Bunhallowed-seance-v6q6444j4vq4cw4gv%22%2C%22path%22%3A%22%2Fworkspaces%2Fpython_machine_learning_basics%2FLinear_Regression%2Flinear_regression_apartment_prices.ipynb%22%2C%22query%22%3A%22%22%2C%22fragment%22%3A%22X12sdnNjb2RlLXJlbW90ZQ%3D%3D%22%7D%2C%22pos%22%3A%7B%22line%22%3A1%2C%22character%22%3A51%7D%7D%5D%2C%2284a6de3d-6a83-49be-a3ee-e9980e05ade6%22%5D \"Go to definition\"): Die unabhängige Variable (Feature), die die Fläche der Wohnungen darstellt.\n",
    "   - [`y_train`](command:_github.copilot.openSymbolFromReferences?%5B%22%22%2C%5B%7B%22uri%22%3A%7B%22scheme%22%3A%22vscode-notebook-cell%22%2C%22authority%22%3A%22codespaces%2Bunhallowed-seance-v6q6444j4vq4cw4gv%22%2C%22path%22%3A%22%2Fworkspaces%2Fpython_machine_learning_basics%2FLinear_Regression%2Flinear_regression_apartment_prices.ipynb%22%2C%22query%22%3A%22%22%2C%22fragment%22%3A%22X12sdnNjb2RlLXJlbW90ZQ%3D%3D%22%7D%2C%22pos%22%3A%7B%22line%22%3A1%2C%22character%22%3A60%7D%7D%5D%2C%2284a6de3d-6a83-49be-a3ee-e9980e05ade6%22%5D \"Go to definition\"): Die abhängige Variable (Ziel), die die Preise der Wohnungen darstellt.\n",
    "   - Die Funktion gibt mehrere Werte zurück:\n",
    "     - [`slope`](command:_github.copilot.openSymbolFromReferences?%5B%22%22%2C%5B%7B%22uri%22%3A%7B%22scheme%22%3A%22vscode-notebook-cell%22%2C%22authority%22%3A%22codespaces%2Bunhallowed-seance-v6q6444j4vq4cw4gv%22%2C%22path%22%3A%22%2Fworkspaces%2Fpython_machine_learning_basics%2FLinear_Regression%2Flinear_regression_apartment_prices.ipynb%22%2C%22query%22%3A%22%22%2C%22fragment%22%3A%22X12sdnNjb2RlLXJlbW90ZQ%3D%3D%22%7D%2C%22pos%22%3A%7B%22line%22%3A1%2C%22character%22%3A0%7D%7D%5D%2C%2284a6de3d-6a83-49be-a3ee-e9980e05ade6%22%5D \"Go to definition\"): Die Steigung der Regressionslinie (beta).\n",
    "     - [`intercept`](command:_github.copilot.openSymbolFromReferences?%5B%22%22%2C%5B%7B%22uri%22%3A%7B%22scheme%22%3A%22vscode-notebook-cell%22%2C%22authority%22%3A%22codespaces%2Bunhallowed-seance-v6q6444j4vq4cw4gv%22%2C%22path%22%3A%22%2Fworkspaces%2Fpython_machine_learning_basics%2FLinear_Regression%2Flinear_regression_apartment_prices.ipynb%22%2C%22query%22%3A%22%22%2C%22fragment%22%3A%22X12sdnNjb2RlLXJlbW90ZQ%3D%3D%22%7D%2C%22pos%22%3A%7B%22line%22%3A1%2C%22character%22%3A7%7D%7D%5D%2C%2284a6de3d-6a83-49be-a3ee-e9980e05ade6%22%5D \"Go to definition\"): Der Achsenabschnitt der Regressionslinie (alpha).\n",
    "     - [`r`](command:_github.copilot.openSymbolFromReferences?%5B%22%22%2C%5B%7B%22uri%22%3A%7B%22scheme%22%3A%22vscode-notebook-cell%22%2C%22authority%22%3A%22codespaces%2Bunhallowed-seance-v6q6444j4vq4cw4gv%22%2C%22path%22%3A%22%2Fworkspaces%2Fpython_machine_learning_basics%2FLinear_Regression%2Flinear_regression_apartment_prices.ipynb%22%2C%22query%22%3A%22%22%2C%22fragment%22%3A%22X12sdnNjb2RlLXJlbW90ZQ%3D%3D%22%7D%2C%22pos%22%3A%7B%22line%22%3A1%2C%22character%22%3A18%7D%7D%5D%2C%2284a6de3d-6a83-49be-a3ee-e9980e05ade6%22%5D \"Go to definition\"): Der Korrelationskoeffizient.\n",
    "     - [`p`](command:_github.copilot.openSymbolFromReferences?%5B%22%22%2C%5B%7B%22uri%22%3A%7B%22scheme%22%3A%22vscode-notebook-cell%22%2C%22authority%22%3A%22codespaces%2Bunhallowed-seance-v6q6444j4vq4cw4gv%22%2C%22path%22%3A%22%2Fworkspaces%2Fpython_machine_learning_basics%2FLinear_Regression%2Flinear_regression_apartment_prices.ipynb%22%2C%22query%22%3A%22%22%2C%22fragment%22%3A%22X12sdnNjb2RlLXJlbW90ZQ%3D%3D%22%7D%2C%22pos%22%3A%7B%22line%22%3A1%2C%22character%22%3A21%7D%7D%5D%2C%2284a6de3d-6a83-49be-a3ee-e9980e05ade6%22%5D \"Go to definition\"): Der p-Wert für die Hypothese, dass die Steigung null ist.\n",
    "     - [`std_err`](command:_github.copilot.openSymbolFromReferences?%5B%22%22%2C%5B%7B%22uri%22%3A%7B%22scheme%22%3A%22vscode-notebook-cell%22%2C%22authority%22%3A%22codespaces%2Bunhallowed-seance-v6q6444j4vq4cw4gv%22%2C%22path%22%3A%22%2Fworkspaces%2Fpython_machine_learning_basics%2FLinear_Regression%2Flinear_regression_apartment_prices.ipynb%22%2C%22query%22%3A%22%22%2C%22fragment%22%3A%22X12sdnNjb2RlLXJlbW90ZQ%3D%3D%22%7D%2C%22pos%22%3A%7B%22line%22%3A1%2C%22character%22%3A24%7D%7D%5D%2C%2284a6de3d-6a83-49be-a3ee-e9980e05ade6%22%5D \"Go to definition\"): Der Standardfehler der geschätzten Steigung.\n",
    "\n",
    "2. **Ausgabe der Ergebnisse des Regressionsmodells**:\n",
    "   ```python\n",
    "   print('Linear regression result:')\n",
    "   print(f'Intercept with y-axis (alpha):            {intercept:.2f}')\n",
    "   print(f'Slope of regression line (beta):          {slope:.3f}')\n",
    "   print(f'p-value:                                  {p:.4f}')\n",
    "   print(f'R-squared (coefficient of determination): {r**2:.4f}')\n",
    "   ```\n",
    "   - [`print('Linear regression result:')`](command:_github.copilot.openSymbolFromReferences?%5B%22%22%2C%5B%7B%22uri%22%3A%7B%22scheme%22%3A%22vscode-notebook-cell%22%2C%22authority%22%3A%22codespaces%2Bunhallowed-seance-v6q6444j4vq4cw4gv%22%2C%22path%22%3A%22%2Fworkspaces%2Fpython_machine_learning_basics%2FLinear_Regression%2Flinear_regression_apartment_prices.ipynb%22%2C%22query%22%3A%22%22%2C%22fragment%22%3A%22X12sdnNjb2RlLXJlbW90ZQ%3D%3D%22%7D%2C%22pos%22%3A%7B%22line%22%3A4%2C%22character%22%3A0%7D%7D%5D%2C%2284a6de3d-6a83-49be-a3ee-e9980e05ade6%22%5D \"Go to definition\"): Gibt den Text \"Linear regression result:\" aus.\n",
    "   - [`print(f'Intercept with y-axis (alpha): {intercept:.2f}')`](command:_github.copilot.openSymbolFromReferences?%5B%22%22%2C%5B%7B%22uri%22%3A%7B%22scheme%22%3A%22vscode-notebook-cell%22%2C%22authority%22%3A%22codespaces%2Bunhallowed-seance-v6q6444j4vq4cw4gv%22%2C%22path%22%3A%22%2Fworkspaces%2Fpython_machine_learning_basics%2FLinear_Regression%2Flinear_regression_apartment_prices.ipynb%22%2C%22query%22%3A%22%22%2C%22fragment%22%3A%22X12sdnNjb2RlLXJlbW90ZQ%3D%3D%22%7D%2C%22pos%22%3A%7B%22line%22%3A4%2C%22character%22%3A0%7D%7D%5D%2C%2284a6de3d-6a83-49be-a3ee-e9980e05ade6%22%5D \"Go to definition\"): Gibt den Achsenabschnitt (alpha) der Regressionslinie aus, formatiert auf zwei Dezimalstellen.\n",
    "   - [`print(f'Slope of regression line (beta): {slope:.3f}')`](command:_github.copilot.openSymbolFromReferences?%5B%22%22%2C%5B%7B%22uri%22%3A%7B%22scheme%22%3A%22vscode-notebook-cell%22%2C%22authority%22%3A%22codespaces%2Bunhallowed-seance-v6q6444j4vq4cw4gv%22%2C%22path%22%3A%22%2Fworkspaces%2Fpython_machine_learning_basics%2FLinear_Regression%2Flinear_regression_apartment_prices.ipynb%22%2C%22query%22%3A%22%22%2C%22fragment%22%3A%22X12sdnNjb2RlLXJlbW90ZQ%3D%3D%22%7D%2C%22pos%22%3A%7B%22line%22%3A4%2C%22character%22%3A0%7D%7D%5D%2C%2284a6de3d-6a83-49be-a3ee-e9980e05ade6%22%5D \"Go to definition\"): Gibt die Steigung (beta) der Regressionslinie aus, formatiert auf drei Dezimalstellen.\n",
    "   - [`print(f'p-value: {p:.4f}')`](command:_github.copilot.openSymbolFromReferences?%5B%22%22%2C%5B%7B%22uri%22%3A%7B%22scheme%22%3A%22vscode-notebook-cell%22%2C%22authority%22%3A%22codespaces%2Bunhallowed-seance-v6q6444j4vq4cw4gv%22%2C%22path%22%3A%22%2Fworkspaces%2Fpython_machine_learning_basics%2FLinear_Regression%2Flinear_regression_apartment_prices.ipynb%22%2C%22query%22%3A%22%22%2C%22fragment%22%3A%22X12sdnNjb2RlLXJlbW90ZQ%3D%3D%22%7D%2C%22pos%22%3A%7B%22line%22%3A4%2C%22character%22%3A0%7D%7D%5D%2C%2284a6de3d-6a83-49be-a3ee-e9980e05ade6%22%5D \"Go to definition\"): Gibt den p-Wert aus, formatiert auf vier Dezimalstellen.\n",
    "   - [`print(f'R-squared (coefficient of determination): {r**2:.4f}')`](command:_github.copilot.openSymbolFromReferences?%5B%22%22%2C%5B%7B%22uri%22%3A%7B%22scheme%22%3A%22vscode-notebook-cell%22%2C%22authority%22%3A%22codespaces%2Bunhallowed-seance-v6q6444j4vq4cw4gv%22%2C%22path%22%3A%22%2Fworkspaces%2Fpython_machine_learning_basics%2FLinear_Regression%2Flinear_regression_apartment_prices.ipynb%22%2C%22query%22%3A%22%22%2C%22fragment%22%3A%22X12sdnNjb2RlLXJlbW90ZQ%3D%3D%22%7D%2C%22pos%22%3A%7B%22line%22%3A4%2C%22character%22%3A0%7D%7D%5D%2C%2284a6de3d-6a83-49be-a3ee-e9980e05ade6%22%5D \"Go to definition\"): Gibt den Bestimmtheitsmaß (R²) aus, formatiert auf vier Dezimalstellen. R² ist das Quadrat des Korrelationskoeffizienten und gibt an, wie gut die unabhängige Variable die abhängige Variable erklärt.\n",
    "\n",
    "Zusammengefasst: Der Code passt ein lineares Regressionsmodell an die Trainingsdaten an und gibt die wichtigsten Ergebnisse der Regression aus, einschließlich Achsenabschnitt, Steigung, p-Wert und Bestimmtheitsmaß."
   ]
  },
  {
   "cell_type": "markdown",
   "id": "fb975969",
   "metadata": {},
   "source": [
    "Dieser Code definiert eine Funktion zur Berechnung von Modellvorhersagen, wendet diese Funktion auf die Trainingsdaten an und erstellt ein Streudiagramm mit der Regressionslinie. Hier ist eine detaillierte Erklärung:\n",
    "\n",
    "1. **Funktion zur Berechnung von Modellvorhersagen**:\n",
    "   ```python\n",
    "   def myfunc(x):\n",
    "       return slope * x + intercept\n",
    "   ```\n",
    "   - [`def myfunc(x)`](command:_github.copilot.openSymbolFromReferences?%5B%22%22%2C%5B%7B%22uri%22%3A%7B%22scheme%22%3A%22vscode-notebook-cell%22%2C%22authority%22%3A%22codespaces%2Bunhallowed-seance-v6q6444j4vq4cw4gv%22%2C%22path%22%3A%22%2Fworkspaces%2Fpython_machine_learning_basics%2FLinear_Regression%2Flinear_regression_apartment_prices.ipynb%22%2C%22query%22%3A%22%22%2C%22fragment%22%3A%22X12sdnNjb2RlLXJlbW90ZQ%3D%3D%22%7D%2C%22pos%22%3A%7B%22line%22%3A1%2C%22character%22%3A0%7D%7D%5D%2C%22de4fef56-4019-450f-bebe-1dda19f239cd%22%5D \"Go to definition\"): Definiert eine Funktion [`myfunc`](command:_github.copilot.openSymbolFromReferences?%5B%22%22%2C%5B%7B%22uri%22%3A%7B%22scheme%22%3A%22vscode-notebook-cell%22%2C%22authority%22%3A%22codespaces%2Bunhallowed-seance-v6q6444j4vq4cw4gv%22%2C%22path%22%3A%22%2Fworkspaces%2Fpython_machine_learning_basics%2FLinear_Regression%2Flinear_regression_apartment_prices.ipynb%22%2C%22query%22%3A%22%22%2C%22fragment%22%3A%22X14sdnNjb2RlLXJlbW90ZQ%3D%3D%22%7D%2C%22pos%22%3A%7B%22line%22%3A1%2C%22character%22%3A4%7D%7D%5D%2C%22fa8b357d-0b29-4b98-95ff-1f44a1c6f862%22%5D \"Go to definition\"), die eine Eingabe [`x`](command:_github.copilot.openSymbolFromReferences?%5B%22%22%2C%5B%7B%22uri%22%3A%7B%22scheme%22%3A%22vscode-notebook-cell%22%2C%22authority%22%3A%22codespaces%2Bunhallowed-seance-v6q6444j4vq4cw4gv%22%2C%22path%22%3A%22%2Fworkspaces%2Fpython_machine_learning_basics%2FLinear_Regression%2Flinear_regression_apartment_prices.ipynb%22%2C%22query%22%3A%22%22%2C%22fragment%22%3A%22X14sdnNjb2RlLXJlbW90ZQ%3D%3D%22%7D%2C%22pos%22%3A%7B%22line%22%3A1%2C%22character%22%3A11%7D%7D%5D%2C%22fa8b357d-0b29-4b98-95ff-1f44a1c6f862%22%5D \"Go to definition\") akzeptiert.\n",
    "   - [`return slope * x + intercept`](command:_github.copilot.openSymbolFromReferences?%5B%22%22%2C%5B%7B%22uri%22%3A%7B%22scheme%22%3A%22vscode-notebook-cell%22%2C%22authority%22%3A%22codespaces%2Bunhallowed-seance-v6q6444j4vq4cw4gv%22%2C%22path%22%3A%22%2Fworkspaces%2Fpython_machine_learning_basics%2FLinear_Regression%2Flinear_regression_apartment_prices.ipynb%22%2C%22query%22%3A%22%22%2C%22fragment%22%3A%22X12sdnNjb2RlLXJlbW90ZQ%3D%3D%22%7D%2C%22pos%22%3A%7B%22line%22%3A1%2C%22character%22%3A0%7D%7D%5D%2C%22de4fef56-4019-450f-bebe-1dda19f239cd%22%5D \"Go to definition\"): Berechnet die Vorhersage des Modells für [`x`](command:_github.copilot.openSymbolFromReferences?%5B%22%22%2C%5B%7B%22uri%22%3A%7B%22scheme%22%3A%22vscode-notebook-cell%22%2C%22authority%22%3A%22codespaces%2Bunhallowed-seance-v6q6444j4vq4cw4gv%22%2C%22path%22%3A%22%2Fworkspaces%2Fpython_machine_learning_basics%2FLinear_Regression%2Flinear_regression_apartment_prices.ipynb%22%2C%22query%22%3A%22%22%2C%22fragment%22%3A%22X14sdnNjb2RlLXJlbW90ZQ%3D%3D%22%7D%2C%22pos%22%3A%7B%22line%22%3A1%2C%22character%22%3A11%7D%7D%5D%2C%22fa8b357d-0b29-4b98-95ff-1f44a1c6f862%22%5D \"Go to definition\") unter Verwendung der Steigung ([`slope`](command:_github.copilot.openSymbolFromReferences?%5B%22%22%2C%5B%7B%22uri%22%3A%7B%22scheme%22%3A%22vscode-notebook-cell%22%2C%22authority%22%3A%22codespaces%2Bunhallowed-seance-v6q6444j4vq4cw4gv%22%2C%22path%22%3A%22%2Fworkspaces%2Fpython_machine_learning_basics%2FLinear_Regression%2Flinear_regression_apartment_prices.ipynb%22%2C%22query%22%3A%22%22%2C%22fragment%22%3A%22X14sdnNjb2RlLXJlbW90ZQ%3D%3D%22%7D%2C%22pos%22%3A%7B%22line%22%3A2%2C%22character%22%3A11%7D%7D%5D%2C%22fa8b357d-0b29-4b98-95ff-1f44a1c6f862%22%5D \"Go to definition\")) und des Achsenabschnitts ([`intercept`](command:_github.copilot.openSymbolFromReferences?%5B%22%22%2C%5B%7B%22uri%22%3A%7B%22scheme%22%3A%22vscode-notebook-cell%22%2C%22authority%22%3A%22codespaces%2Bunhallowed-seance-v6q6444j4vq4cw4gv%22%2C%22path%22%3A%22%2Fworkspaces%2Fpython_machine_learning_basics%2FLinear_Regression%2Flinear_regression_apartment_prices.ipynb%22%2C%22query%22%3A%22%22%2C%22fragment%22%3A%22X14sdnNjb2RlLXJlbW90ZQ%3D%3D%22%7D%2C%22pos%22%3A%7B%22line%22%3A2%2C%22character%22%3A23%7D%7D%5D%2C%22fa8b357d-0b29-4b98-95ff-1f44a1c6f862%22%5D \"Go to definition\")) der Regressionslinie.\n",
    "\n",
    "2. **Anwenden der Funktion auf die Trainingsdaten**:\n",
    "   ```python\n",
    "   mymodel = pd.Series(map(myfunc, X_train))\n",
    "   ```\n",
    "   - [`pd.Series(map(myfunc, X_train))`](command:_github.copilot.openSymbolFromReferences?%5B%22%22%2C%5B%7B%22uri%22%3A%7B%22scheme%22%3A%22vscode-notebook-cell%22%2C%22authority%22%3A%22codespaces%2Bunhallowed-seance-v6q6444j4vq4cw4gv%22%2C%22path%22%3A%22%2Fworkspaces%2Fpython_machine_learning_basics%2FLinear_Regression%2Flinear_regression_apartment_prices.ipynb%22%2C%22query%22%3A%22%22%2C%22fragment%22%3A%22X12sdnNjb2RlLXJlbW90ZQ%3D%3D%22%7D%2C%22pos%22%3A%7B%22line%22%3A1%2C%22character%22%3A0%7D%7D%5D%2C%22de4fef56-4019-450f-bebe-1dda19f239cd%22%5D \"Go to definition\"): Wendet die Funktion [`myfunc`](command:_github.copilot.openSymbolFromReferences?%5B%22%22%2C%5B%7B%22uri%22%3A%7B%22scheme%22%3A%22vscode-notebook-cell%22%2C%22authority%22%3A%22codespaces%2Bunhallowed-seance-v6q6444j4vq4cw4gv%22%2C%22path%22%3A%22%2Fworkspaces%2Fpython_machine_learning_basics%2FLinear_Regression%2Flinear_regression_apartment_prices.ipynb%22%2C%22query%22%3A%22%22%2C%22fragment%22%3A%22X14sdnNjb2RlLXJlbW90ZQ%3D%3D%22%7D%2C%22pos%22%3A%7B%22line%22%3A1%2C%22character%22%3A4%7D%7D%5D%2C%22fa8b357d-0b29-4b98-95ff-1f44a1c6f862%22%5D \"Go to definition\") auf jedes Element in [`X_train`](command:_github.copilot.openSymbolFromReferences?%5B%22%22%2C%5B%7B%22uri%22%3A%7B%22scheme%22%3A%22vscode-notebook-cell%22%2C%22authority%22%3A%22codespaces%2Bunhallowed-seance-v6q6444j4vq4cw4gv%22%2C%22path%22%3A%22%2Fworkspaces%2Fpython_machine_learning_basics%2FLinear_Regression%2Flinear_regression_apartment_prices.ipynb%22%2C%22query%22%3A%22%22%2C%22fragment%22%3A%22X14sdnNjb2RlLXJlbW90ZQ%3D%3D%22%7D%2C%22pos%22%3A%7B%22line%22%3A5%2C%22character%22%3A32%7D%7D%5D%2C%22fa8b357d-0b29-4b98-95ff-1f44a1c6f862%22%5D \"Go to definition\") an und erstellt eine [`pd.Series`](command:_github.copilot.openSymbolFromReferences?%5B%22%22%2C%5B%7B%22uri%22%3A%7B%22scheme%22%3A%22vscode-notebook-cell%22%2C%22authority%22%3A%22codespaces%2Bunhallowed-seance-v6q6444j4vq4cw4gv%22%2C%22path%22%3A%22%2Fworkspaces%2Fpython_machine_learning_basics%2FLinear_Regression%2Flinear_regression_apartment_prices.ipynb%22%2C%22query%22%3A%22%22%2C%22fragment%22%3A%22X14sdnNjb2RlLXJlbW90ZQ%3D%3D%22%7D%2C%22pos%22%3A%7B%22line%22%3A5%2C%22character%22%3A10%7D%7D%5D%2C%22fa8b357d-0b29-4b98-95ff-1f44a1c6f862%22%5D \"Go to definition\") mit den Vorhersagen.\n",
    "\n",
    "3. **Erstellen eines Streudiagramms mit der Regressionslinie**:\n",
    "   ```python\n",
    "   plt.figure(figsize=(6,4))\n",
    "   plt.scatter(X_train, y_train, s=10, color='green')\n",
    "   plt.plot(X_train, mymodel, color='darkred', linestyle='dashed')\n",
    "   plt.title('Simple Linear Regression')\n",
    "   plt.xlabel('area (m2)')\n",
    "   plt.ylabel('price (CHF)')\n",
    "   plt.show()\n",
    "   ```\n",
    "   - [`plt.figure(figsize=(6,4))`](command:_github.copilot.openSymbolFromReferences?%5B%22%22%2C%5B%7B%22uri%22%3A%7B%22scheme%22%3A%22vscode-notebook-cell%22%2C%22authority%22%3A%22codespaces%2Bunhallowed-seance-v6q6444j4vq4cw4gv%22%2C%22path%22%3A%22%2Fworkspaces%2Fpython_machine_learning_basics%2FLinear_Regression%2Flinear_regression_apartment_prices.ipynb%22%2C%22query%22%3A%22%22%2C%22fragment%22%3A%22X12sdnNjb2RlLXJlbW90ZQ%3D%3D%22%7D%2C%22pos%22%3A%7B%22line%22%3A1%2C%22character%22%3A0%7D%7D%5D%2C%22de4fef56-4019-450f-bebe-1dda19f239cd%22%5D \"Go to definition\"): Erstellt eine neue Abbildung mit einer Größe von 6x4 Zoll.\n",
    "   - [`plt.scatter(X_train, y_train, s=10, color='green')`](command:_github.copilot.openSymbolFromReferences?%5B%22%22%2C%5B%7B%22uri%22%3A%7B%22scheme%22%3A%22vscode-notebook-cell%22%2C%22authority%22%3A%22codespaces%2Bunhallowed-seance-v6q6444j4vq4cw4gv%22%2C%22path%22%3A%22%2Fworkspaces%2Fpython_machine_learning_basics%2FLinear_Regression%2Flinear_regression_apartment_prices.ipynb%22%2C%22query%22%3A%22%22%2C%22fragment%22%3A%22X12sdnNjb2RlLXJlbW90ZQ%3D%3D%22%7D%2C%22pos%22%3A%7B%22line%22%3A1%2C%22character%22%3A0%7D%7D%5D%2C%22de4fef56-4019-450f-bebe-1dda19f239cd%22%5D \"Go to definition\"): Erstellt ein Streudiagramm der Trainingsdaten ([`X_train`](command:_github.copilot.openSymbolFromReferences?%5B%22%22%2C%5B%7B%22uri%22%3A%7B%22scheme%22%3A%22vscode-notebook-cell%22%2C%22authority%22%3A%22codespaces%2Bunhallowed-seance-v6q6444j4vq4cw4gv%22%2C%22path%22%3A%22%2Fworkspaces%2Fpython_machine_learning_basics%2FLinear_Regression%2Flinear_regression_apartment_prices.ipynb%22%2C%22query%22%3A%22%22%2C%22fragment%22%3A%22X14sdnNjb2RlLXJlbW90ZQ%3D%3D%22%7D%2C%22pos%22%3A%7B%22line%22%3A5%2C%22character%22%3A32%7D%7D%5D%2C%22fa8b357d-0b29-4b98-95ff-1f44a1c6f862%22%5D \"Go to definition\") gegen [`y_train`](command:_github.copilot.openSymbolFromReferences?%5B%22%22%2C%5B%7B%22uri%22%3A%7B%22scheme%22%3A%22vscode-notebook-cell%22%2C%22authority%22%3A%22codespaces%2Bunhallowed-seance-v6q6444j4vq4cw4gv%22%2C%22path%22%3A%22%2Fworkspaces%2Fpython_machine_learning_basics%2FLinear_Regression%2Flinear_regression_apartment_prices.ipynb%22%2C%22query%22%3A%22%22%2C%22fragment%22%3A%22X14sdnNjb2RlLXJlbW90ZQ%3D%3D%22%7D%2C%22pos%22%3A%7B%22line%22%3A9%2C%22character%22%3A21%7D%7D%5D%2C%22fa8b357d-0b29-4b98-95ff-1f44a1c6f862%22%5D \"Go to definition\")) mit grünen Punkten und einer Punktgröße von 10.\n",
    "   - [`plt.plot(X_train, mymodel, color='darkred', linestyle='dashed')`](command:_github.copilot.openSymbolFromReferences?%5B%22%22%2C%5B%7B%22uri%22%3A%7B%22scheme%22%3A%22vscode-notebook-cell%22%2C%22authority%22%3A%22codespaces%2Bunhallowed-seance-v6q6444j4vq4cw4gv%22%2C%22path%22%3A%22%2Fworkspaces%2Fpython_machine_learning_basics%2FLinear_Regression%2Flinear_regression_apartment_prices.ipynb%22%2C%22query%22%3A%22%22%2C%22fragment%22%3A%22X12sdnNjb2RlLXJlbW90ZQ%3D%3D%22%7D%2C%22pos%22%3A%7B%22line%22%3A1%2C%22character%22%3A0%7D%7D%5D%2C%22de4fef56-4019-450f-bebe-1dda19f239cd%22%5D \"Go to definition\"): Zeichnet die Regressionslinie ([`X_train`](command:_github.copilot.openSymbolFromReferences?%5B%22%22%2C%5B%7B%22uri%22%3A%7B%22scheme%22%3A%22vscode-notebook-cell%22%2C%22authority%22%3A%22codespaces%2Bunhallowed-seance-v6q6444j4vq4cw4gv%22%2C%22path%22%3A%22%2Fworkspaces%2Fpython_machine_learning_basics%2FLinear_Regression%2Flinear_regression_apartment_prices.ipynb%22%2C%22query%22%3A%22%22%2C%22fragment%22%3A%22X14sdnNjb2RlLXJlbW90ZQ%3D%3D%22%7D%2C%22pos%22%3A%7B%22line%22%3A5%2C%22character%22%3A32%7D%7D%5D%2C%22fa8b357d-0b29-4b98-95ff-1f44a1c6f862%22%5D \"Go to definition\") gegen [`mymodel`](command:_github.copilot.openSymbolFromReferences?%5B%22%22%2C%5B%7B%22uri%22%3A%7B%22scheme%22%3A%22vscode-notebook-cell%22%2C%22authority%22%3A%22codespaces%2Bunhallowed-seance-v6q6444j4vq4cw4gv%22%2C%22path%22%3A%22%2Fworkspaces%2Fpython_machine_learning_basics%2FLinear_Regression%2Flinear_regression_apartment_prices.ipynb%22%2C%22query%22%3A%22%22%2C%22fragment%22%3A%22X14sdnNjb2RlLXJlbW90ZQ%3D%3D%22%7D%2C%22pos%22%3A%7B%22line%22%3A5%2C%22character%22%3A0%7D%7D%5D%2C%22fa8b357d-0b29-4b98-95ff-1f44a1c6f862%22%5D \"Go to definition\")) mit einer dunkelroten gestrichelten Linie.\n",
    "   - [`plt.title('Simple Linear Regression')`](command:_github.copilot.openSymbolFromReferences?%5B%22%22%2C%5B%7B%22uri%22%3A%7B%22scheme%22%3A%22vscode-notebook-cell%22%2C%22authority%22%3A%22codespaces%2Bunhallowed-seance-v6q6444j4vq4cw4gv%22%2C%22path%22%3A%22%2Fworkspaces%2Fpython_machine_learning_basics%2FLinear_Regression%2Flinear_regression_apartment_prices.ipynb%22%2C%22query%22%3A%22%22%2C%22fragment%22%3A%22X12sdnNjb2RlLXJlbW90ZQ%3D%3D%22%7D%2C%22pos%22%3A%7B%22line%22%3A1%2C%22character%22%3A0%7D%7D%5D%2C%22de4fef56-4019-450f-bebe-1dda19f239cd%22%5D \"Go to definition\"): Fügt dem Diagramm den Titel \"Simple Linear Regression\" hinzu.\n",
    "   - [`plt.xlabel('area (m2)')`](command:_github.copilot.openSymbolFromReferences?%5B%22%22%2C%5B%7B%22uri%22%3A%7B%22scheme%22%3A%22vscode-notebook-cell%22%2C%22authority%22%3A%22codespaces%2Bunhallowed-seance-v6q6444j4vq4cw4gv%22%2C%22path%22%3A%22%2Fworkspaces%2Fpython_machine_learning_basics%2FLinear_Regression%2Flinear_regression_apartment_prices.ipynb%22%2C%22query%22%3A%22%22%2C%22fragment%22%3A%22X12sdnNjb2RlLXJlbW90ZQ%3D%3D%22%7D%2C%22pos%22%3A%7B%22line%22%3A1%2C%22character%22%3A0%7D%7D%5D%2C%22de4fef56-4019-450f-bebe-1dda19f239cd%22%5D \"Go to definition\"): Beschriftet die x-Achse mit \"area (m2)\".\n",
    "   - [`plt.ylabel('price (CHF)')`](command:_github.copilot.openSymbolFromReferences?%5B%22%22%2C%5B%7B%22uri%22%3A%7B%22scheme%22%3A%22vscode-notebook-cell%22%2C%22authority%22%3A%22codespaces%2Bunhallowed-seance-v6q6444j4vq4cw4gv%22%2C%22path%22%3A%22%2Fworkspaces%2Fpython_machine_learning_basics%2FLinear_Regression%2Flinear_regression_apartment_prices.ipynb%22%2C%22query%22%3A%22%22%2C%22fragment%22%3A%22X12sdnNjb2RlLXJlbW90ZQ%3D%3D%22%7D%2C%22pos%22%3A%7B%22line%22%3A1%2C%22character%22%3A0%7D%7D%5D%2C%22de4fef56-4019-450f-bebe-1dda19f239cd%22%5D \"Go to definition\"): Beschriftet die y-Achse mit \"price (CHF)\".\n",
    "   - [`plt.show()`](command:_github.copilot.openSymbolFromReferences?%5B%22%22%2C%5B%7B%22uri%22%3A%7B%22scheme%22%3A%22vscode-notebook-cell%22%2C%22authority%22%3A%22codespaces%2Bunhallowed-seance-v6q6444j4vq4cw4gv%22%2C%22path%22%3A%22%2Fworkspaces%2Fpython_machine_learning_basics%2FLinear_Regression%2Flinear_regression_apartment_prices.ipynb%22%2C%22query%22%3A%22%22%2C%22fragment%22%3A%22X12sdnNjb2RlLXJlbW90ZQ%3D%3D%22%7D%2C%22pos%22%3A%7B%22line%22%3A1%2C%22character%22%3A0%7D%7D%5D%2C%22de4fef56-4019-450f-bebe-1dda19f239cd%22%5D \"Go to definition\"): Zeigt das Diagramm an.\n",
    "\n",
    "Zusammengefasst: Der Code definiert eine Funktion zur Berechnung der Vorhersagen des Regressionsmodells, wendet diese Funktion auf die Trainingsdaten an und erstellt ein Streudiagramm der Trainingsdaten mit der Regressionslinie."
   ]
  },
  {
   "cell_type": "markdown",
   "id": "4168bf46",
   "metadata": {},
   "source": [
    "### Check model residuals (residuals = observed prices minus predicted prices)"
   ]
  },
  {
   "cell_type": "code",
   "execution_count": 6,
   "id": "c706dc0f",
   "metadata": {},
   "outputs": [
    {
     "name": "stdout",
     "output_type": "stream",
     "text": [
      "1st Predicted price in dataset: 2898.72\n",
      "1st Observed price in dataset: 1441.00\n",
      "1st Residual price in dataset: -1457.72\n"
     ]
    }
   ],
   "source": [
    "# Calculate model residuals for train data\n",
    "residuals = y_train - mymodel\n",
    "\n",
    "# Check the first residual value in our data set\n",
    "print(f'1st Predicted price in dataset: {mymodel[0]:.2f}')\n",
    "print(f'1st Observed price in dataset: {y_train[0]:.2f}')\n",
    "print(f'1st Residual price in dataset: {residuals[0]:.2f}')"
   ]
  },
  {
   "cell_type": "markdown",
   "id": "a61ae5ac",
   "metadata": {},
   "source": [
    "### Plot histogram of residuals"
   ]
  },
  {
   "cell_type": "code",
   "execution_count": 7,
   "id": "74906286",
   "metadata": {},
   "outputs": [
    {
     "data": {
      "image/png": "[encoded data removed]",
      "text/plain": [
       "<Figure size 700x400 with 1 Axes>"
      ]
     },
     "metadata": {},
     "output_type": "display_data"
    }
   ],
   "source": [
    "# Plot histogram of residuals\n",
    "fig = plt.figure( figsize=(7,4))\n",
    "n, bins, patches = plt.hist(x=residuals, \n",
    "                            bins=25, \n",
    "                            color='blue',\n",
    "                            alpha=0.5\n",
    "                   )\n",
    "\n",
    "# Set title and labels\n",
    "plt.xlabel('residuals', fontsize=10, labelpad=10)\n",
    "plt.ylabel('frequency', fontsize=10, labelpad=10)\n",
    "plt.title('Histogram of model residuals', fontsize=12, pad=10)\n",
    "plt.grid()\n",
    "\n",
    "# Show plot\n",
    "plt.show()"
   ]
  },
  {
   "cell_type": "markdown",
   "id": "b3108ba5",
   "metadata": {},
   "source": [
    "### Compare the observed prices with the predicted prices"
   ]
  },
  {
   "cell_type": "code",
   "execution_count": 8,
   "id": "36cdf7b0",
   "metadata": {},
   "outputs": [
    {
     "name": "stdout",
     "output_type": "stream",
     "text": [
      "Observed price: 1360.0, Predicted price: 2031.6\n",
      "Observed price: 1640.0, Predicted price: 2004.5\n",
      "Observed price: 1568.0, Predicted price: 2167.1\n",
      "Observed price: 2290.0, Predicted price: 2207.8\n",
      "Observed price: 4950.0, Predicted price: 2627.8\n",
      "Observed price: 1787.0, Predicted price: 2248.4\n",
      "Observed price: 3495.0, Predicted price: 2519.4\n",
      "Observed price: 2450.0, Predicted price: 2031.6\n",
      "Observed price: 3390.0, Predicted price: 2871.6\n",
      "Observed price: 2836.0, Predicted price: 2573.6\n"
     ]
    }
   ],
   "source": [
    "# Create model predictions for test data\n",
    "predicted = myfunc(X_test)\n",
    "predicted.round(1)\n",
    "\n",
    "# Compare the observed prices with the predicted prices\n",
    "for i in range(0,10):\n",
    "    print(f'Observed price: {y_test.iloc[i]:.1f}, Predicted price: {predicted.iloc[i]:.1f}')"
   ]
  },
  {
   "cell_type": "markdown",
   "id": "0bf7656b",
   "metadata": {},
   "source": [
    "## Multiple linear regression (more than one explanatory variable in the model)\n",
    "For details see: https://www.statsmodels.org/dev/examples/notebooks/generated/predict.html"
   ]
  },
  {
   "cell_type": "markdown",
   "id": "9268293c",
   "metadata": {},
   "source": [
    "### Create train and test samples (train = 80%, test = 20% of the data)"
   ]
  },
  {
   "cell_type": "code",
   "execution_count": 9,
   "id": "26c6c61e",
   "metadata": {},
   "outputs": [
    {
     "name": "stdout",
     "output_type": "stream",
     "text": [
      "X2_train:\n",
      "     area     pop_dens\n",
      "503   120   165.018625\n",
      "6      65   525.662252\n",
      "400    90   424.146342\n",
      "644    63  1044.628957\n",
      "484    91   399.525129 \n",
      "\n",
      "y2_train:\n",
      "503    1900\n",
      "6      1850\n",
      "400    2090\n",
      "644    2102\n",
      "484    1800\n",
      "Name: price, dtype: int64\n"
     ]
    }
   ],
   "source": [
    "# Create train and test samples (we name it X2_ and y_2 because we already used X_ and y_ above)\n",
    "X2_train, X2_test, y2_train, y2_test = train_test_split(df[['area',\n",
    "                                                            'pop_dens']], \n",
    "                                                        df['price'], \n",
    "                                                        test_size=0.20, \n",
    "                                                        random_state=42)\n",
    "\n",
    "# Show X2_train\n",
    "print('X2_train:')\n",
    "print(X2_train.head(), '\\n')\n",
    "\n",
    "# Show y2_train\n",
    "print('y2_train:')\n",
    "print(y2_train.head())"
   ]
  },
  {
   "cell_type": "markdown",
   "id": "493cef96",
   "metadata": {},
   "source": [
    "### Fit the multiple regression model (yes, the output is rich :-), but we need only part of it for interpretation!)"
   ]
  },
  {
   "cell_type": "code",
   "execution_count": 10,
   "id": "41939144",
   "metadata": {},
   "outputs": [
    {
     "name": "stdout",
     "output_type": "stream",
     "text": [
      "                            OLS Regression Results                            \n",
      "==============================================================================\n",
      "Dep. Variable:                  price   R-squared:                       0.588\n",
      "Model:                            OLS   Adj. R-squared:                  0.586\n",
      "Method:                 Least Squares   F-statistic:                     409.2\n",
      "Date:                Mon, 28 Oct 2024   Prob (F-statistic):          3.50e-111\n",
      "Time:                        16:55:36   Log-Likelihood:                -4420.2\n",
      "No. Observations:                 577   AIC:                             8846.\n",
      "Df Residuals:                     574   BIC:                             8860.\n",
      "Df Model:                           2                                         \n",
      "Covariance Type:            nonrobust                                         \n",
      "==============================================================================\n",
      "                 coef    std err          t      P>|t|      [0.025      0.975]\n",
      "------------------------------------------------------------------------------\n",
      "const        331.1861     78.086      4.241      0.000     177.818     484.554\n",
      "area          17.9213      0.649     27.625      0.000      16.647      19.195\n",
      "pop_dens       0.2379      0.014     17.502      0.000       0.211       0.265\n",
      "==============================================================================\n",
      "Omnibus:                       79.849   Durbin-Watson:                   1.970\n",
      "Prob(Omnibus):                  0.000   Jarque-Bera (JB):              140.633\n",
      "Skew:                           0.843   Prob(JB):                     2.90e-31\n",
      "Kurtosis:                       4.734   Cond. No.                     1.06e+04\n",
      "==============================================================================\n",
      "\n",
      "Notes:\n",
      "[1] Standard Errors assume that the covariance matrix of the errors is correctly specified.\n",
      "[2] The condition number is large, 1.06e+04. This might indicate that there are\n",
      "strong multicollinearity or other numerical problems.\n"
     ]
    }
   ],
   "source": [
    "# Add constant to the model\n",
    "X2_train_const = sm.add_constant(X2_train)\n",
    "\n",
    "# Create the multiple regression model\n",
    "olsmod = sm.OLS(y_train, X2_train_const)\n",
    "olsres = olsmod.fit()\n",
    "\n",
    "# Print full model output\n",
    "print(olsres.summary())"
   ]
  },
  {
   "cell_type": "markdown",
   "id": "b2596976",
   "metadata": {},
   "source": [
    "Dieser Code erstellt ein multiples lineares Regressionsmodell und gibt eine Zusammenfassung der Modellanpassung aus. Hier ist eine detaillierte Erklärung:\n",
    "\n",
    "### Erklärung des Codes\n",
    "\n",
    "1. **Konstante zum Modell hinzufügen**:\n",
    "   ```python\n",
    "   X2_train_const = sm.add_constant(X2_train)\n",
    "   ```\n",
    "   Diese Zeile fügt eine Konstante (Intercept) zu den Trainingsdaten ([`X2_train`](command:_github.copilot.openSymbolFromReferences?%5B%22%22%2C%5B%7B%22uri%22%3A%7B%22scheme%22%3A%22vscode-notebook-cell%22%2C%22authority%22%3A%22codespaces%2Bunhallowed-seance-v6q6444j4vq4cw4gv%22%2C%22path%22%3A%22%2Fworkspaces%2Fpython_machine_learning_basics%2FLinear_Regression%2Flinear_regression_apartment_prices.ipynb%22%2C%22query%22%3A%22%22%2C%22fragment%22%3A%22X31sdnNjb2RlLXJlbW90ZQ%3D%3D%22%7D%2C%22pos%22%3A%7B%22line%22%3A1%2C%22character%22%3A33%7D%7D%5D%2C%22afb47890-a458-438a-b9b8-72b7082c578a%22%5D \"Go to definition\")) hinzu. Dies ist notwendig, da das Regressionsmodell auch einen Intercept-Term hat.\n",
    "\n",
    "2. **Erstellen des multiplen Regressionsmodells**:\n",
    "   ```python\n",
    "   olsmod = sm.OLS(y_train, X2_train_const)\n",
    "   ```\n",
    "   Diese Zeile erstellt ein multiples lineares Regressionsmodell mit den abhängigen Variablen ([`y_train`](command:_github.copilot.openSymbolFromReferences?%5B%22%22%2C%5B%7B%22uri%22%3A%7B%22scheme%22%3A%22vscode-notebook-cell%22%2C%22authority%22%3A%22codespaces%2Bunhallowed-seance-v6q6444j4vq4cw4gv%22%2C%22path%22%3A%22%2Fworkspaces%2Fpython_machine_learning_basics%2FLinear_Regression%2Flinear_regression_apartment_prices.ipynb%22%2C%22query%22%3A%22%22%2C%22fragment%22%3A%22X31sdnNjb2RlLXJlbW90ZQ%3D%3D%22%7D%2C%22pos%22%3A%7B%22line%22%3A4%2C%22character%22%3A16%7D%7D%5D%2C%22afb47890-a458-438a-b9b8-72b7082c578a%22%5D \"Go to definition\")) und den unabhängigen Variablen ([`X2_train_const`](command:_github.copilot.openSymbolFromReferences?%5B%22%22%2C%5B%7B%22uri%22%3A%7B%22scheme%22%3A%22vscode-notebook-cell%22%2C%22authority%22%3A%22codespaces%2Bunhallowed-seance-v6q6444j4vq4cw4gv%22%2C%22path%22%3A%22%2Fworkspaces%2Fpython_machine_learning_basics%2FLinear_Regression%2Flinear_regression_apartment_prices.ipynb%22%2C%22query%22%3A%22%22%2C%22fragment%22%3A%22X31sdnNjb2RlLXJlbW90ZQ%3D%3D%22%7D%2C%22pos%22%3A%7B%22line%22%3A1%2C%22character%22%3A0%7D%7D%5D%2C%22afb47890-a458-438a-b9b8-72b7082c578a%22%5D \"Go to definition\")).\n",
    "\n",
    "3. **Anpassen des Modells**:\n",
    "   ```python\n",
    "   olsres = olsmod.fit()\n",
    "   ```\n",
    "   Diese Zeile passt das Modell an die Daten an und speichert die Ergebnisse in [`olsres`](command:_github.copilot.openSymbolFromReferences?%5B%22%22%2C%5B%7B%22uri%22%3A%7B%22scheme%22%3A%22vscode-notebook-cell%22%2C%22authority%22%3A%22codespaces%2Bunhallowed-seance-v6q6444j4vq4cw4gv%22%2C%22path%22%3A%22%2Fworkspaces%2Fpython_machine_learning_basics%2FLinear_Regression%2Flinear_regression_apartment_prices.ipynb%22%2C%22query%22%3A%22%22%2C%22fragment%22%3A%22X31sdnNjb2RlLXJlbW90ZQ%3D%3D%22%7D%2C%22pos%22%3A%7B%22line%22%3A5%2C%22character%22%3A0%7D%7D%5D%2C%22afb47890-a458-438a-b9b8-72b7082c578a%22%5D \"Go to definition\").\n",
    "\n",
    "4. **Ausgabe der vollständigen Modellzusammenfassung**:\n",
    "   ```python\n",
    "   print(olsres.summary())\n",
    "   ```\n",
    "   Diese Zeile druckt eine detaillierte Zusammenfassung des angepassten Modells, einschließlich der Koeffizienten, Standardfehler, t-Werte, p-Werte und des R²-Werts.\n",
    "\n",
    "### Weitere Beispiele\n",
    "\n",
    "#### Beispiel 1: Einfaches lineares Regressionsmodell\n"
   ]
  },
  {
   "cell_type": "code",
   "execution_count": 28,
   "id": "8333982d",
   "metadata": {},
   "outputs": [
    {
     "name": "stdout",
     "output_type": "stream",
     "text": [
      "                            OLS Regression Results                            \n",
      "==============================================================================\n",
      "Dep. Variable:                  Preis   R-squared:                       1.000\n",
      "Model:                            OLS   Adj. R-squared:                  1.000\n",
      "Method:                 Least Squares   F-statistic:                 1.342e+30\n",
      "Date:                Mon, 28 Oct 2024   Prob (F-statistic):           1.42e-45\n",
      "Time:                        17:22:50   Log-Likelihood:                 107.76\n",
      "No. Observations:                   5   AIC:                            -211.5\n",
      "Df Residuals:                       3   BIC:                            -212.3\n",
      "Df Model:                           1                                         \n",
      "Covariance Type:            nonrobust                                         \n",
      "==============================================================================\n",
      "                 coef    std err          t      P>|t|      [0.025      0.975]\n",
      "------------------------------------------------------------------------------\n",
      "const          -5e+04   3.08e-10  -1.62e+14      0.000      -5e+04      -5e+04\n",
      "Größe       5000.0000   4.32e-12   1.16e+15      0.000    5000.000    5000.000\n",
      "==============================================================================\n",
      "Omnibus:                          nan   Durbin-Watson:                   0.015\n",
      "Prob(Omnibus):                    nan   Jarque-Bera (JB):                0.839\n",
      "Skew:                           0.408   Prob(JB):                        0.657\n",
      "Kurtosis:                       1.167   Cond. No.                         361.\n",
      "==============================================================================\n",
      "\n",
      "Notes:\n",
      "[1] Standard Errors assume that the covariance matrix of the errors is correctly specified.\n"
     ]
    }
   ],
   "source": [
    "import pandas as pd\n",
    "import statsmodels.api as sm\n",
    "\n",
    "# Beispiel-Daten\n",
    "data = {\n",
    "    'Größe': [50, 60, 70, 80, 90],\n",
    "    'Preis': [200000, 250000, 300000, 350000, 400000]\n",
    "}\n",
    "df = pd.DataFrame(data)\n",
    "\n",
    "# Unabhängige Variable (Größe)\n",
    "X = df['Größe']\n",
    "X = sm.add_constant(X)  # Konstante hinzufügen\n",
    "\n",
    "# Abhängige Variable (Preis)\n",
    "y = df['Preis']\n",
    "\n",
    "# Lineares Regressionsmodell erstellen\n",
    "model = sm.OLS(y, X)\n",
    "results = model.fit()\n",
    "\n",
    "# Modellzusammenfassung anzeigen\n",
    "print(results.summary())"
   ]
  },
  {
   "cell_type": "markdown",
   "id": "db8c454a",
   "metadata": {},
   "source": [
    "\n",
    "\n",
    "#### Beispiel 2: Multiple lineare Regression mit zwei unabhängigen Variablen\n"
   ]
  },
  {
   "cell_type": "code",
   "execution_count": 29,
   "id": "bf9781e9",
   "metadata": {},
   "outputs": [
    {
     "name": "stdout",
     "output_type": "stream",
     "text": [
      "                            OLS Regression Results                            \n",
      "==============================================================================\n",
      "Dep. Variable:                  Preis   R-squared:                       1.000\n",
      "Model:                            OLS   Adj. R-squared:                  1.000\n",
      "Method:                 Least Squares   F-statistic:                 1.706e+29\n",
      "Date:                Mon, 28 Oct 2024   Prob (F-statistic):           5.86e-30\n",
      "Time:                        17:22:55   Log-Likelihood:                 105.35\n",
      "No. Observations:                   5   AIC:                            -204.7\n",
      "Df Residuals:                       2   BIC:                            -205.9\n",
      "Df Model:                           2                                         \n",
      "Covariance Type:            nonrobust                                         \n",
      "==============================================================================\n",
      "                 coef    std err          t      P>|t|      [0.025      0.975]\n",
      "------------------------------------------------------------------------------\n",
      "const          -5e+04   8.87e-10  -5.64e+13      0.000      -5e+04      -5e+04\n",
      "Größe       5000.0000   2.62e-11   1.91e+14      0.000    5000.000    5000.000\n",
      "Zimmer     -3.003e-11   4.94e-10     -0.061      0.957   -2.16e-09     2.1e-09\n",
      "==============================================================================\n",
      "Omnibus:                          nan   Durbin-Watson:                   0.052\n",
      "Prob(Omnibus):                    nan   Jarque-Bera (JB):                0.642\n",
      "Skew:                           0.868   Prob(JB):                        0.725\n",
      "Kurtosis:                       2.729   Cond. No.                         570.\n",
      "==============================================================================\n",
      "\n",
      "Notes:\n",
      "[1] Standard Errors assume that the covariance matrix of the errors is correctly specified.\n"
     ]
    }
   ],
   "source": [
    "import pandas as pd\n",
    "import statsmodels.api as sm\n",
    "\n",
    "# Beispiel-Daten\n",
    "data = {\n",
    "    'Größe': [50, 60, 70, 80, 90],\n",
    "    'Zimmer': [1, 2, 2, 3, 3],\n",
    "    'Preis': [200000, 250000, 300000, 350000, 400000]\n",
    "}\n",
    "df = pd.DataFrame(data)\n",
    "\n",
    "# Unabhängige Variablen (Größe und Zimmer)\n",
    "X = df[['Größe', 'Zimmer']]\n",
    "X = sm.add_constant(X)  # Konstante hinzufügen\n",
    "\n",
    "# Abhängige Variable (Preis)\n",
    "y = df['Preis']\n",
    "\n",
    "# Multiples lineares Regressionsmodell erstellen\n",
    "model = sm.OLS(y, X)\n",
    "results = model.fit()\n",
    "\n",
    "# Modellzusammenfassung anzeigen\n",
    "print(results.summary())"
   ]
  },
  {
   "cell_type": "markdown",
   "id": "c8496dad",
   "metadata": {},
   "source": [
    "\n",
    "\n",
    "#### Beispiel 3: Multiple lineare Regression mit drei unabhängigen Variablen\n"
   ]
  },
  {
   "cell_type": "code",
   "execution_count": 30,
   "id": "3a76585d",
   "metadata": {},
   "outputs": [
    {
     "name": "stdout",
     "output_type": "stream",
     "text": [
      "                            OLS Regression Results                            \n",
      "==============================================================================\n",
      "Dep. Variable:                  Preis   R-squared:                       1.000\n",
      "Model:                            OLS   Adj. R-squared:                  1.000\n",
      "Method:                 Least Squares   F-statistic:                 9.806e+28\n",
      "Date:                Mon, 28 Oct 2024   Prob (F-statistic):           1.02e-29\n",
      "Time:                        17:22:59   Log-Likelihood:                 103.96\n",
      "No. Observations:                   5   AIC:                            -201.9\n",
      "Df Residuals:                       2   BIC:                            -203.1\n",
      "Df Model:                           2                                         \n",
      "Covariance Type:            nonrobust                                         \n",
      "==============================================================================\n",
      "                 coef    std err          t      P>|t|      [0.025      0.975]\n",
      "------------------------------------------------------------------------------\n",
      "const        -31.1526   2.89e-12  -1.08e+13      0.000     -31.153     -31.153\n",
      "Größe       3750.7788   1.48e-11   2.54e+14      0.000    3750.779    3750.779\n",
      "Zimmer     -1.512e-10   6.52e-10     -0.232      0.838   -2.96e-09    2.65e-09\n",
      "Alter       2498.4424   5.83e-11   4.28e+13      0.000    2498.442    2498.442\n",
      "==============================================================================\n",
      "Omnibus:                          nan   Durbin-Watson:                   0.193\n",
      "Prob(Omnibus):                    nan   Jarque-Bera (JB):                0.450\n",
      "Skew:                           0.110   Prob(JB):                        0.799\n",
      "Kurtosis:                       1.547   Cond. No.                     3.13e+17\n",
      "==============================================================================\n",
      "\n",
      "Notes:\n",
      "[1] Standard Errors assume that the covariance matrix of the errors is correctly specified.\n",
      "[2] The smallest eigenvalue is 2.74e-31. This might indicate that there are\n",
      "strong multicollinearity problems or that the design matrix is singular.\n"
     ]
    }
   ],
   "source": [
    "import pandas as pd\n",
    "import statsmodels.api as sm\n",
    "\n",
    "# Beispiel-Daten\n",
    "data = {\n",
    "    'Größe': [50, 60, 70, 80, 90],\n",
    "    'Zimmer': [1, 2, 2, 3, 3],\n",
    "    'Alter': [5, 10, 15, 20, 25],\n",
    "    'Preis': [200000, 250000, 300000, 350000, 400000]\n",
    "}\n",
    "df = pd.DataFrame(data)\n",
    "\n",
    "# Unabhängige Variablen (Größe, Zimmer und Alter)\n",
    "X = df[['Größe', 'Zimmer', 'Alter']]\n",
    "X = sm.add_constant(X)  # Konstante hinzufügen\n",
    "\n",
    "# Abhängige Variable (Preis)\n",
    "y = df['Preis']\n",
    "\n",
    "# Multiples lineares Regressionsmodell erstellen\n",
    "model = sm.OLS(y, X)\n",
    "results = model.fit()\n",
    "\n",
    "# Modellzusammenfassung anzeigen\n",
    "print(results.summary())"
   ]
  },
  {
   "cell_type": "markdown",
   "id": "d4d7aa5b",
   "metadata": {},
   "source": [
    "\n",
    "\n",
    "Diese Beispiele zeigen, wie man einfache und multiple lineare Regressionsmodelle mit verschiedenen unabhängigen Variablen erstellt und die Modellzusammenfassung ausgibt."
   ]
  },
  {
   "cell_type": "markdown",
   "id": "6bfc2964",
   "metadata": {},
   "source": [
    "### Interpretation of the relevant (in this course) statistics in the table above"
   ]
  },
  {
   "cell_type": "markdown",
   "id": "4e62547e",
   "metadata": {},
   "source": [
    "<b>R-squared:</b> This is the coefficient of determination (see slides of lessons). A value of 0.522 means, that the explanatory variables explain 52% of the variaton of our target variable (rental prices) - not bad, but could be improved.\n",
    "\n",
    "<b>coef:</b> These are the estimated coefficients of the explanatory variables ('slopes of the regression line' of each variable). These are nedded for the price predictions in our model.\n",
    "\n",
    "<b>P>|t|:</b> These are the p-values. If < 0.05, the explanatory variables shows a statistically siginificant (5% significance level) contribution in explaining the target variable. Except for the distiance to the nearest supermarkt, all variables are significant here."
   ]
  },
  {
   "cell_type": "markdown",
   "id": "1cb8a8c5",
   "metadata": {},
   "source": [
    "### Plot histogram of residuals"
   ]
  },
  {
   "cell_type": "code",
   "execution_count": 11,
   "id": "c28ffef9",
   "metadata": {},
   "outputs": [
    {
     "data": {
      "image/png": "[encoded data removed]",
      "text/plain": [
       "<Figure size 800x400 with 1 Axes>"
      ]
     },
     "metadata": {},
     "output_type": "display_data"
    }
   ],
   "source": [
    "# Plot histogram of residuals\n",
    "fig = plt.figure( figsize=(8,4))\n",
    "n, bins, patches = plt.hist(x=olsres.resid, \n",
    "                            bins=25, \n",
    "                            color='blue',\n",
    "                            alpha=0.5\n",
    "                   )\n",
    "\n",
    "# Set labels\n",
    "plt.xlabel('residuals', fontsize=10, labelpad=10)\n",
    "plt.ylabel('frequency', fontsize=10, labelpad=10)\n",
    "plt.title('Histogram of model residuals', fontsize=12, pad=10)\n",
    "plt.grid()\n",
    "\n",
    "plt.show()"
   ]
  },
  {
   "cell_type": "markdown",
   "id": "fd374f18",
   "metadata": {},
   "source": [
    "Dieser Code erstellt ein Histogramm der Residuen eines linearen Regressionsmodells. Residuen sind die Differenzen zwischen den beobachteten Werten und den durch das Modell vorhergesagten Werten. Das Histogramm hilft dabei, die Verteilung der Residuen zu visualisieren und zu überprüfen, ob sie normalverteilt sind, was eine Annahme der linearen Regression ist.\n",
    "\n",
    "### Erklärung des Codes\n",
    "\n",
    "1. **Erstellen einer neuen Figur**:\n",
    "   ```python\n",
    "   fig = plt.figure(figsize=(8,4))\n",
    "   ```\n",
    "   Diese Zeile erstellt eine neue Figur mit einer Größe von 8x4 Zoll.\n",
    "\n",
    "2. **Erstellen des Histogramms**:\n",
    "   ```python\n",
    "   n, bins, patches = plt.hist(x=olsres.resid, \n",
    "                               bins=25, \n",
    "                               color='blue',\n",
    "                               alpha=0.5)\n",
    "   ```\n",
    "   Diese Zeile erstellt ein Histogramm der Residuen ([`olsres.resid`](command:_github.copilot.openSymbolFromReferences?%5B%22%22%2C%5B%7B%22uri%22%3A%7B%22scheme%22%3A%22vscode-notebook-cell%22%2C%22authority%22%3A%22codespaces%2Bunhallowed-seance-v6q6444j4vq4cw4gv%22%2C%22path%22%3A%22%2Fworkspaces%2Fpython_machine_learning_basics%2FLinear_Regression%2Flinear_regression_apartment_prices.ipynb%22%2C%22query%22%3A%22%22%2C%22fragment%22%3A%22X35sdnNjb2RlLXJlbW90ZQ%3D%3D%22%7D%2C%22pos%22%3A%7B%22line%22%3A2%2C%22character%22%3A30%7D%7D%5D%2C%22e5bcdb07-d06f-40a6-8b6d-3466c56e2984%22%5D \"Go to definition\")) mit 25 Bins. Die Farbe der Balken ist blau und die Transparenz ([`alpha`](command:_github.copilot.openSymbolFromReferences?%5B%22%22%2C%5B%7B%22uri%22%3A%7B%22scheme%22%3A%22vscode-notebook-cell%22%2C%22authority%22%3A%22codespaces%2Bunhallowed-seance-v6q6444j4vq4cw4gv%22%2C%22path%22%3A%22%2Fworkspaces%2Fpython_machine_learning_basics%2FLinear_Regression%2Flinear_regression_apartment_prices.ipynb%22%2C%22query%22%3A%22%22%2C%22fragment%22%3A%22X35sdnNjb2RlLXJlbW90ZQ%3D%3D%22%7D%2C%22pos%22%3A%7B%22line%22%3A5%2C%22character%22%3A28%7D%7D%5D%2C%22e5bcdb07-d06f-40a6-8b6d-3466c56e2984%22%5D \"Go to definition\")) ist auf 0.5 gesetzt.\n",
    "\n",
    "3. **Setzen der Achsenbeschriftungen und des Titels**:\n",
    "   ```python\n",
    "   plt.xlabel('residuals', fontsize=10, labelpad=10)\n",
    "   plt.ylabel('frequency', fontsize=10, labelpad=10)\n",
    "   plt.title('Histogram of model residuals', fontsize=12, pad=10)\n",
    "   ```\n",
    "   Diese Zeilen setzen die Beschriftungen der x- und y-Achse sowie den Titel des Plots. Die Schriftgröße und der Abstand der Beschriftungen werden ebenfalls festgelegt.\n",
    "\n",
    "4. **Hinzufügen eines Gitters**:\n",
    "   ```python\n",
    "   plt.grid()\n",
    "   ```\n",
    "   Diese Zeile fügt dem Plot ein Gitter hinzu, um die Lesbarkeit zu verbessern.\n",
    "\n",
    "5. **Anzeigen des Plots**:\n",
    "   ```python\n",
    "   plt.show()\n",
    "   ```\n",
    "   Diese Zeile zeigt den Plot an.\n",
    "\n",
    "### Weitere Beispiele\n",
    "\n",
    "#### Beispiel 1: Histogramm der Residuen mit 30 Bins und roter Farbe\n"
   ]
  },
  {
   "cell_type": "code",
   "execution_count": 25,
   "id": "d52f6088",
   "metadata": {},
   "outputs": [
    {
     "data": {
      "image/png": "[encoded data removed]",
      "text/plain": [
       "<Figure size 800x400 with 1 Axes>"
      ]
     },
     "metadata": {},
     "output_type": "display_data"
    }
   ],
   "source": [
    "fig = plt.figure(figsize=(8,4))\n",
    "n, bins, patches = plt.hist(x=olsres.resid, \n",
    "                            bins=30, \n",
    "                            color='red',\n",
    "                            alpha=0.7)\n",
    "\n",
    "plt.xlabel('residuals', fontsize=10, labelpad=10)\n",
    "plt.ylabel('frequency', fontsize=10, labelpad=10)\n",
    "plt.title('Histogram of model residuals', fontsize=12, pad=10)\n",
    "plt.grid()\n",
    "\n",
    "plt.show()"
   ]
  },
  {
   "cell_type": "markdown",
   "id": "afd391cd",
   "metadata": {},
   "source": [
    "\n",
    "\n",
    "#### Beispiel 2: Histogramm der Residuen mit 20 Bins und grüner Farbe\n"
   ]
  },
  {
   "cell_type": "code",
   "execution_count": 26,
   "id": "90a8f52b",
   "metadata": {},
   "outputs": [
    {
     "data": {
      "image/png": "[encoded data removed]",
      "text/plain": [
       "<Figure size 800x400 with 1 Axes>"
      ]
     },
     "metadata": {},
     "output_type": "display_data"
    }
   ],
   "source": [
    "fig = plt.figure(figsize=(8,4))\n",
    "n, bins, patches = plt.hist(x=olsres.resid, \n",
    "                            bins=20, \n",
    "                            color='green',\n",
    "                            alpha=0.6)\n",
    "\n",
    "plt.xlabel('residuals', fontsize=10, labelpad=10)\n",
    "plt.ylabel('frequency', fontsize=10, labelpad=10)\n",
    "plt.title('Histogram of model residuals', fontsize=12, pad=10)\n",
    "plt.grid()\n",
    "\n",
    "plt.show()"
   ]
  },
  {
   "cell_type": "markdown",
   "id": "d802349c",
   "metadata": {},
   "source": [
    "\n",
    "\n",
    "#### Beispiel 3: Histogramm der Residuen mit 15 Bins und orangefarbener Farbe\n"
   ]
  },
  {
   "cell_type": "code",
   "execution_count": 27,
   "id": "8bf35159",
   "metadata": {},
   "outputs": [
    {
     "data": {
      "image/png": "[encoded data removed]",
      "text/plain": [
       "<Figure size 800x400 with 1 Axes>"
      ]
     },
     "metadata": {},
     "output_type": "display_data"
    }
   ],
   "source": [
    "fig = plt.figure(figsize=(8,4))\n",
    "n, bins, patches = plt.hist(x=olsres.resid, \n",
    "                            bins=15, \n",
    "                            color='orange',\n",
    "                            alpha=0.8)\n",
    "\n",
    "plt.xlabel('residuals', fontsize=10, labelpad=10)\n",
    "plt.ylabel('frequency', fontsize=10, labelpad=10)\n",
    "plt.title('Histogram of model residuals', fontsize=12, pad=10)\n",
    "plt.grid()\n",
    "\n",
    "plt.show()"
   ]
  },
  {
   "cell_type": "markdown",
   "id": "a4b91af4",
   "metadata": {},
   "source": [
    "\n",
    "\n",
    "Diese Beispiele zeigen, wie man das Histogramm der Residuen mit unterschiedlichen Farben und Bins anpassen kann, um die Verteilung der Residuen zu visualisieren."
   ]
  },
  {
   "cell_type": "markdown",
   "id": "5dd244d9",
   "metadata": {},
   "source": [
    "### Compare observed prices with predicted prices"
   ]
  },
  {
   "cell_type": "code",
   "execution_count": 12,
   "id": "798fac9c",
   "metadata": {},
   "outputs": [
    {
     "name": "stdout",
     "output_type": "stream",
     "text": [
      "Observed price: 1360.0, Predicted price: 1730.3\n",
      "Observed price: 1640.0, Predicted price: 1600.6\n",
      "Observed price: 1568.0, Predicted price: 1806.3\n",
      "Observed price: 2290.0, Predicted price: 2704.6\n",
      "Observed price: 4950.0, Predicted price: 2519.3\n",
      "Observed price: 1787.0, Predicted price: 2201.5\n",
      "Observed price: 3495.0, Predicted price: 3116.8\n",
      "Observed price: 2450.0, Predicted price: 2471.6\n",
      "Observed price: 3390.0, Predicted price: 2685.2\n",
      "Observed price: 2836.0, Predicted price: 2405.3\n"
     ]
    }
   ],
   "source": [
    "# Add constant to X2_test\n",
    "X2_test_const = sm.add_constant(X2_test)\n",
    "predicted_new = olsres.predict(X2_test_const)\n",
    "\n",
    "# Compare the observed prices with the predicted prices\n",
    "for i in range(0,10):\n",
    "    print(f'Observed price: {y_test.iloc[i]:.1f}, Predicted price: {predicted_new.iloc[i]:.1f}')"
   ]
  },
  {
   "cell_type": "markdown",
   "id": "9a0c66d2",
   "metadata": {},
   "source": [
    "Dieser Code führt eine Vorhersage der Wohnungspreise basierend auf einem linearen Regressionsmodell durch und vergleicht die vorhergesagten Preise mit den tatsächlichen beobachteten Preisen. Hier ist eine detaillierte Erklärung:\n",
    "\n",
    "1. **Konstante zu X2_test hinzufügen**:\n",
    "   ```python\n",
    "   X2_test_const = sm.add_constant(X2_test)\n",
    "   ```\n",
    "   Diese Zeile fügt eine Konstante (Intercept) zu den Testdaten [`X2_test`](command:_github.copilot.openSymbolFromReferences?%5B%22%22%2C%5B%7B%22uri%22%3A%7B%22scheme%22%3A%22vscode-notebook-cell%22%2C%22authority%22%3A%22codespaces%2Bunhallowed-seance-v6q6444j4vq4cw4gv%22%2C%22path%22%3A%22%2Fworkspaces%2Fpython_machine_learning_basics%2FLinear_Regression%2Flinear_regression_apartment_prices.ipynb%22%2C%22query%22%3A%22%22%2C%22fragment%22%3A%22X40sdnNjb2RlLXJlbW90ZQ%3D%3D%22%7D%2C%22pos%22%3A%7B%22line%22%3A1%2C%22character%22%3A32%7D%7D%5D%2C%22531e1091-93da-4bcc-90ae-fb32107f88aa%22%5D \"Go to definition\") hinzu. Dies ist notwendig, da das Regressionsmodell auch einen Intercept-Term hat.\n",
    "\n",
    "2. **Vorhersage der Preise**:\n",
    "   ```python\n",
    "   predicted_new = olsres.predict(X2_test_const)\n",
    "   ```\n",
    "   Diese Zeile verwendet das trainierte Regressionsmodell [`olsres`](command:_github.copilot.openSymbolFromReferences?%5B%22%22%2C%5B%7B%22uri%22%3A%7B%22scheme%22%3A%22vscode-notebook-cell%22%2C%22authority%22%3A%22codespaces%2Bunhallowed-seance-v6q6444j4vq4cw4gv%22%2C%22path%22%3A%22%2Fworkspaces%2Fpython_machine_learning_basics%2FLinear_Regression%2Flinear_regression_apartment_prices.ipynb%22%2C%22query%22%3A%22%22%2C%22fragment%22%3A%22X40sdnNjb2RlLXJlbW90ZQ%3D%3D%22%7D%2C%22pos%22%3A%7B%22line%22%3A2%2C%22character%22%3A16%7D%7D%5D%2C%22531e1091-93da-4bcc-90ae-fb32107f88aa%22%5D \"Go to definition\"), um die Preise für die Testdaten [`X2_test_const`](command:_github.copilot.openSymbolFromReferences?%5B%22%22%2C%5B%7B%22uri%22%3A%7B%22scheme%22%3A%22vscode-notebook-cell%22%2C%22authority%22%3A%22codespaces%2Bunhallowed-seance-v6q6444j4vq4cw4gv%22%2C%22path%22%3A%22%2Fworkspaces%2Fpython_machine_learning_basics%2FLinear_Regression%2Flinear_regression_apartment_prices.ipynb%22%2C%22query%22%3A%22%22%2C%22fragment%22%3A%22X40sdnNjb2RlLXJlbW90ZQ%3D%3D%22%7D%2C%22pos%22%3A%7B%22line%22%3A1%2C%22character%22%3A0%7D%7D%5D%2C%22531e1091-93da-4bcc-90ae-fb32107f88aa%22%5D \"Go to definition\") vorherzusagen.\n",
    "\n",
    "3. **Vergleich der beobachteten und vorhergesagten Preise**:\n",
    "   ```python\n",
    "   for i in range(0,10):\n",
    "       print(f'Observed price: {y_test.iloc[i]:.1f}, Predicted price: {predicted_new.iloc[i]:.1f}')\n",
    "   ```\n",
    "   Diese Schleife durchläuft die ersten 10 Einträge der Testdaten und druckt die tatsächlichen ([`y_test`](command:_github.copilot.openSymbolFromReferences?%5B%22%22%2C%5B%7B%22uri%22%3A%7B%22scheme%22%3A%22vscode-notebook-cell%22%2C%22authority%22%3A%22codespaces%2Bunhallowed-seance-v6q6444j4vq4cw4gv%22%2C%22path%22%3A%22%2Fworkspaces%2Fpython_machine_learning_basics%2FLinear_Regression%2Flinear_regression_apartment_prices.ipynb%22%2C%22query%22%3A%22%22%2C%22fragment%22%3A%22X40sdnNjb2RlLXJlbW90ZQ%3D%3D%22%7D%2C%22pos%22%3A%7B%22line%22%3A6%2C%22character%22%3A29%7D%7D%5D%2C%22531e1091-93da-4bcc-90ae-fb32107f88aa%22%5D \"Go to definition\")) und vorhergesagten ([`predicted_new`](command:_github.copilot.openSymbolFromReferences?%5B%22%22%2C%5B%7B%22uri%22%3A%7B%22scheme%22%3A%22vscode-notebook-cell%22%2C%22authority%22%3A%22codespaces%2Bunhallowed-seance-v6q6444j4vq4cw4gv%22%2C%22path%22%3A%22%2Fworkspaces%2Fpython_machine_learning_basics%2FLinear_Regression%2Flinear_regression_apartment_prices.ipynb%22%2C%22query%22%3A%22%22%2C%22fragment%22%3A%22X40sdnNjb2RlLXJlbW90ZQ%3D%3D%22%7D%2C%22pos%22%3A%7B%22line%22%3A2%2C%22character%22%3A0%7D%7D%5D%2C%22531e1091-93da-4bcc-90ae-fb32107f88aa%22%5D \"Go to definition\")) Preise aus.\n",
    "\n",
    "Hier sind drei weitere Beispiele, die ähnliche Vergleiche durchführen:\n",
    "\n",
    "### Beispiel 1: Vergleich der ersten 5 Preise\n"
   ]
  },
  {
   "cell_type": "code",
   "execution_count": 17,
   "id": "f3694cf0",
   "metadata": {},
   "outputs": [
    {
     "name": "stdout",
     "output_type": "stream",
     "text": [
      "Observed price: 1360.0, Predicted price: 1730.3\n",
      "Observed price: 1640.0, Predicted price: 1600.6\n",
      "Observed price: 1568.0, Predicted price: 1806.3\n",
      "Observed price: 2290.0, Predicted price: 2704.6\n",
      "Observed price: 4950.0, Predicted price: 2519.3\n"
     ]
    }
   ],
   "source": [
    "# Vergleich der ersten 5 beobachteten und vorhergesagten Preise\n",
    "for i in range(0, 5):\n",
    "    print(f'Observed price: {y_test.iloc[i]:.1f}, Predicted price: {predicted_new.iloc[i]:.1f}')"
   ]
  },
  {
   "cell_type": "markdown",
   "id": "a02bb11a",
   "metadata": {},
   "source": [
    "\n",
    "\n",
    "### Beispiel 2: Vergleich der Preise von Index 10 bis 15\n"
   ]
  },
  {
   "cell_type": "code",
   "execution_count": 18,
   "id": "dc138720",
   "metadata": {},
   "outputs": [
    {
     "name": "stdout",
     "output_type": "stream",
     "text": [
      "Observed price: 2715.0, Predicted price: 3048.6\n",
      "Observed price: 1880.0, Predicted price: 1969.8\n",
      "Observed price: 1730.0, Predicted price: 2147.9\n",
      "Observed price: 2383.0, Predicted price: 2543.3\n",
      "Observed price: 1900.0, Predicted price: 1970.6\n",
      "Observed price: 3400.0, Predicted price: 2614.5\n"
     ]
    }
   ],
   "source": [
    "# Vergleich der beobachteten und vorhergesagten Preise von Index 10 bis 15\n",
    "for i in range(10, 16):\n",
    "    print(f'Observed price: {y_test.iloc[i]:.1f}, Predicted price: {predicted_new.iloc[i]:.1f}')"
   ]
  },
  {
   "cell_type": "markdown",
   "id": "bcf1db31",
   "metadata": {},
   "source": [
    "\n",
    "\n",
    "### Beispiel 3: Vergleich der letzten 10 Preise\n"
   ]
  },
  {
   "cell_type": "code",
   "execution_count": 19,
   "id": "6983f611",
   "metadata": {},
   "outputs": [
    {
     "name": "stdout",
     "output_type": "stream",
     "text": [
      "Observed price: 2900.0, Predicted price: 1880.9\n",
      "Observed price: 2700.0, Predicted price: 2299.8\n",
      "Observed price: 2170.0, Predicted price: 2568.6\n",
      "Observed price: 2550.0, Predicted price: 2005.6\n",
      "Observed price: 1850.0, Predicted price: 1712.9\n",
      "Observed price: 3850.0, Predicted price: 3376.0\n",
      "Observed price: 2180.0, Predicted price: 2518.8\n",
      "Observed price: 2250.0, Predicted price: 1827.1\n",
      "Observed price: 2120.0, Predicted price: 2098.7\n",
      "Observed price: 3150.0, Predicted price: 3242.2\n"
     ]
    }
   ],
   "source": [
    "# Vergleich der letzten 10 beobachteten und vorhergesagten Preise\n",
    "for i in range(len(y_test)-10, len(y_test)):\n",
    "    print(f'Observed price: {y_test.iloc[i]:.1f}, Predicted price: {predicted_new.iloc[i]:.1f}')"
   ]
  },
  {
   "cell_type": "markdown",
   "id": "e800c195",
   "metadata": {},
   "source": [
    "Natürlich! Hier sind drei weitere Beispiele für die Anwendung von linearen Regressionsmodellen in Python:\n",
    "\n",
    "### Beispiel 1: Vorhersage von Hauspreisen\n"
   ]
  },
  {
   "cell_type": "code",
   "execution_count": 21,
   "id": "89f16a93",
   "metadata": {},
   "outputs": [
    {
     "name": "stdout",
     "output_type": "stream",
     "text": [
      "                            OLS Regression Results                            \n",
      "==============================================================================\n",
      "Dep. Variable:                  Preis   R-squared:                       1.000\n",
      "Model:                            OLS   Adj. R-squared:                  1.000\n",
      "Method:                 Least Squares   F-statistic:                 1.706e+29\n",
      "Date:                Mon, 28 Oct 2024   Prob (F-statistic):           5.86e-30\n",
      "Time:                        17:17:47   Log-Likelihood:                 105.35\n",
      "No. Observations:                   5   AIC:                            -204.7\n",
      "Df Residuals:                       2   BIC:                            -205.9\n",
      "Df Model:                           2                                         \n",
      "Covariance Type:            nonrobust                                         \n",
      "==============================================================================\n",
      "                 coef    std err          t      P>|t|      [0.025      0.975]\n",
      "------------------------------------------------------------------------------\n",
      "const          -5e+04   8.87e-10  -5.64e+13      0.000      -5e+04      -5e+04\n",
      "Größe       5000.0000   2.62e-11   1.91e+14      0.000    5000.000    5000.000\n",
      "Zimmer     -3.003e-11   4.94e-10     -0.061      0.957   -2.16e-09     2.1e-09\n",
      "==============================================================================\n",
      "Omnibus:                          nan   Durbin-Watson:                   0.052\n",
      "Prob(Omnibus):                    nan   Jarque-Bera (JB):                0.642\n",
      "Skew:                           0.868   Prob(JB):                        0.725\n",
      "Kurtosis:                       2.729   Cond. No.                         570.\n",
      "==============================================================================\n",
      "\n",
      "Notes:\n",
      "[1] Standard Errors assume that the covariance matrix of the errors is correctly specified.\n",
      "Vorhersagen: 0    200000.0\n",
      "1    250000.0\n",
      "2    300000.0\n",
      "3    350000.0\n",
      "4    400000.0\n",
      "dtype: float64\n"
     ]
    },
    {
     "data": {
      "image/png": "[encoded data removed]",
      "text/plain": [
       "<Figure size 640x480 with 1 Axes>"
      ]
     },
     "metadata": {},
     "output_type": "display_data"
    }
   ],
   "source": [
    "import pandas as pd\n",
    "import statsmodels.api as sm\n",
    "import matplotlib.pyplot as plt\n",
    "\n",
    "# Beispiel-Daten\n",
    "data = {\n",
    "    'Größe': [50, 60, 70, 80, 90],\n",
    "    'Zimmer': [1, 2, 2, 3, 3],\n",
    "    'Preis': [200000, 250000, 300000, 350000, 400000]\n",
    "}\n",
    "df = pd.DataFrame(data)\n",
    "\n",
    "# Unabhängige Variablen (Größe und Zimmer)\n",
    "X = df[['Größe', 'Zimmer']]\n",
    "X = sm.add_constant(X)  # Konstante hinzufügen\n",
    "\n",
    "# Abhängige Variable (Preis)\n",
    "y = df['Preis']\n",
    "\n",
    "# Lineares Regressionsmodell erstellen\n",
    "model = sm.OLS(y, X).fit()\n",
    "\n",
    "# Vorhersagen\n",
    "predictions = model.predict(X)\n",
    "\n",
    "# Ergebnisse anzeigen\n",
    "print(model.summary())\n",
    "print(f'Vorhersagen: {predictions}')\n",
    "\n",
    "# Residuen plotten\n",
    "plt.scatter(df['Größe'], model.resid)\n",
    "plt.xlabel('Größe')\n",
    "plt.ylabel('Residuen')\n",
    "plt.title('Residuen vs. Größe')\n",
    "plt.show()"
   ]
  },
  {
   "cell_type": "markdown",
   "id": "a119ad99",
   "metadata": {},
   "source": [
    "\n",
    "\n",
    "### Beispiel 2: Vorhersage von Gehältern basierend auf Erfahrung\n"
   ]
  },
  {
   "cell_type": "code",
   "execution_count": 22,
   "id": "b5aba288",
   "metadata": {},
   "outputs": [
    {
     "name": "stdout",
     "output_type": "stream",
     "text": [
      "                            OLS Regression Results                            \n",
      "==============================================================================\n",
      "Dep. Variable:                 Gehalt   R-squared:                       1.000\n",
      "Model:                            OLS   Adj. R-squared:                  1.000\n",
      "Method:                 Least Squares   F-statistic:                 5.667e+31\n",
      "Date:                Mon, 28 Oct 2024   Prob (F-statistic):           5.17e-48\n",
      "Time:                        17:18:01   Log-Likelihood:                 128.63\n",
      "No. Observations:                   5   AIC:                            -253.3\n",
      "Df Residuals:                       3   BIC:                            -254.0\n",
      "Df Model:                           1                                         \n",
      "Covariance Type:            nonrobust                                         \n",
      "==============================================================================\n",
      "                 coef    std err          t      P>|t|      [0.025      0.975]\n",
      "------------------------------------------------------------------------------\n",
      "const         2.5e+04    2.2e-12   1.13e+16      0.000     2.5e+04     2.5e+04\n",
      "Erfahrung   5000.0000   6.64e-13   7.53e+15      0.000    5000.000    5000.000\n",
      "==============================================================================\n",
      "Omnibus:                          nan   Durbin-Watson:                   1.000\n",
      "Prob(Omnibus):                    nan   Jarque-Bera (JB):                1.888\n",
      "Skew:                          -1.500   Prob(JB):                        0.389\n",
      "Kurtosis:                       3.250   Cond. No.                         8.37\n",
      "==============================================================================\n",
      "\n",
      "Notes:\n",
      "[1] Standard Errors assume that the covariance matrix of the errors is correctly specified.\n",
      "Vorhersagen: 0    30000.0\n",
      "1    35000.0\n",
      "2    40000.0\n",
      "3    45000.0\n",
      "4    50000.0\n",
      "dtype: float64\n"
     ]
    },
    {
     "data": {
      "image/png": "[encoded data removed]",
      "text/plain": [
       "<Figure size 640x480 with 1 Axes>"
      ]
     },
     "metadata": {},
     "output_type": "display_data"
    }
   ],
   "source": [
    "import pandas as pd\n",
    "import statsmodels.api as sm\n",
    "import matplotlib.pyplot as plt\n",
    "\n",
    "# Beispiel-Daten\n",
    "data = {\n",
    "    'Erfahrung': [1, 2, 3, 4, 5],\n",
    "    'Gehalt': [30000, 35000, 40000, 45000, 50000]\n",
    "}\n",
    "df = pd.DataFrame(data)\n",
    "\n",
    "# Unabhängige Variable (Erfahrung)\n",
    "X = df['Erfahrung']\n",
    "X = sm.add_constant(X)  # Konstante hinzufügen\n",
    "\n",
    "# Abhängige Variable (Gehalt)\n",
    "y = df['Gehalt']\n",
    "\n",
    "# Lineares Regressionsmodell erstellen\n",
    "model = sm.OLS(y, X).fit()\n",
    "\n",
    "# Vorhersagen\n",
    "predictions = model.predict(X)\n",
    "\n",
    "# Ergebnisse anzeigen\n",
    "print(model.summary())\n",
    "print(f'Vorhersagen: {predictions}')\n",
    "\n",
    "# Residuen plotten\n",
    "plt.scatter(df['Erfahrung'], model.resid)\n",
    "plt.xlabel('Erfahrung')\n",
    "plt.ylabel('Residuen')\n",
    "plt.title('Residuen vs. Erfahrung')\n",
    "plt.show()"
   ]
  },
  {
   "cell_type": "markdown",
   "id": "0699b01c",
   "metadata": {},
   "source": [
    "\n",
    "\n",
    "### Beispiel 3: Vorhersage von Verkaufszahlen basierend auf Werbeausgaben\n"
   ]
  },
  {
   "cell_type": "code",
   "execution_count": 23,
   "id": "d342f3fb",
   "metadata": {},
   "outputs": [
    {
     "name": "stdout",
     "output_type": "stream",
     "text": [
      "                            OLS Regression Results                            \n",
      "==============================================================================\n",
      "Dep. Variable:               Verkäufe   R-squared:                       1.000\n",
      "Model:                            OLS   Adj. R-squared:                  1.000\n",
      "Method:                 Least Squares   F-statistic:                 1.748e+30\n",
      "Date:                Mon, 28 Oct 2024   Prob (F-statistic):           9.55e-46\n",
      "Time:                        17:18:07   Log-Likelihood:                 154.47\n",
      "No. Observations:                   5   AIC:                            -304.9\n",
      "Df Residuals:                       3   BIC:                            -305.7\n",
      "Df Model:                           1                                         \n",
      "Covariance Type:            nonrobust                                         \n",
      "==============================================================================\n",
      "                 coef    std err          t      P>|t|      [0.025      0.975]\n",
      "------------------------------------------------------------------------------\n",
      "const      -2.665e-15    1.6e-14     -0.166      0.879   -5.37e-14    4.84e-14\n",
      "Werbung        0.0100   7.56e-18   1.32e+15      0.000       0.010       0.010\n",
      "==============================================================================\n",
      "Omnibus:                          nan   Durbin-Watson:                   0.088\n",
      "Prob(Omnibus):                    nan   Jarque-Bera (JB):                0.289\n",
      "Skew:                          -0.272   Prob(JB):                        0.866\n",
      "Kurtosis:                       1.956   Cond. No.                     6.36e+03\n",
      "==============================================================================\n",
      "\n",
      "Notes:\n",
      "[1] Standard Errors assume that the covariance matrix of the errors is correctly specified.\n",
      "[2] The condition number is large, 6.36e+03. This might indicate that there are\n",
      "strong multicollinearity or other numerical problems.\n",
      "Vorhersagen: 0    10.0\n",
      "1    15.0\n",
      "2    20.0\n",
      "3    25.0\n",
      "4    30.0\n",
      "dtype: float64\n"
     ]
    },
    {
     "data": {
      "image/png": "[encoded data removed]",
      "text/plain": [
       "<Figure size 640x480 with 1 Axes>"
      ]
     },
     "metadata": {},
     "output_type": "display_data"
    }
   ],
   "source": [
    "import pandas as pd\n",
    "import statsmodels.api as sm\n",
    "import matplotlib.pyplot as plt\n",
    "\n",
    "# Beispiel-Daten\n",
    "data = {\n",
    "    'Werbung': [1000, 1500, 2000, 2500, 3000],\n",
    "    'Verkäufe': [10, 15, 20, 25, 30]\n",
    "}\n",
    "df = pd.DataFrame(data)\n",
    "\n",
    "# Unabhängige Variable (Werbung)\n",
    "X = df['Werbung']\n",
    "X = sm.add_constant(X)  # Konstante hinzufügen\n",
    "\n",
    "# Abhängige Variable (Verkäufe)\n",
    "y = df['Verkäufe']\n",
    "\n",
    "# Lineares Regressionsmodell erstellen\n",
    "model = sm.OLS(y, X).fit()\n",
    "\n",
    "# Vorhersagen\n",
    "predictions = model.predict(X)\n",
    "\n",
    "# Ergebnisse anzeigen\n",
    "print(model.summary())\n",
    "print(f'Vorhersagen: {predictions}')\n",
    "\n",
    "# Residuen plotten\n",
    "plt.scatter(df['Werbung'], model.resid)\n",
    "plt.xlabel('Werbung')\n",
    "plt.ylabel('Residuen')\n",
    "plt.title('Residuen vs. Werbung')\n",
    "plt.show()"
   ]
  },
  {
   "cell_type": "markdown",
   "id": "b1e731f5",
   "metadata": {},
   "source": [
    "Ja, gerne! Der R²-Wert, auch Bestimmtheitsmaß genannt, ist ein statistisches Maß, das die Güte der Anpassung eines linearen Regressionsmodells an die Daten beschreibt. Hier ist eine detaillierte Erklärung:\n",
    "\n",
    "### Definition\n",
    "Der R²-Wert gibt an, welcher Anteil der Varianz der abhängigen Variable (z.B. Preis) durch die unabhängigen Variablen (z.B. Größe, Zimmer) erklärt wird. Er liegt immer zwischen 0 und 1.\n",
    "\n",
    "### Interpretation\n",
    "- **R² = 0**: Das Modell erklärt keine der Varianz der abhängigen Variable. Die unabhängigen Variablen tragen nichts zur Vorhersage der abhängigen Variable bei.\n",
    "- **R² = 1**: Das Modell erklärt die gesamte Varianz der abhängigen Variable. Die unabhängigen Variablen erklären perfekt die abhängige Variable.\n",
    "- **0 < R² < 1**: Der Wert gibt den Anteil der Varianz an, der durch das Modell erklärt wird. Ein höherer R²-Wert bedeutet, dass das Modell die Daten besser erklärt.\n",
    "\n",
    "### Beispiel\n",
    "Angenommen, wir haben ein lineares Regressionsmodell, das den Preis von Häusern basierend auf deren Größe und Anzahl der Zimmer vorhersagt. Wenn der R²-Wert 0.85 beträgt, bedeutet das, dass 85% der Varianz der Hauspreise durch die Größe und die Anzahl der Zimmer erklärt werden.\n",
    "\n",
    "### Berechnung\n",
    "Der R²-Wert wird wie folgt berechnet:\n",
    "\\[ R^2 = 1 - \\frac{\\sum (y_i - \\hat{y}_i)^2}{\\sum (y_i - \\bar{y})^2} \\]\n",
    "- \\( y_i \\): Tatsächliche Werte der abhängigen Variable\n",
    "- \\( \\hat{y}_i \\): Vorhergesagte Werte der abhängigen Variable\n",
    "- \\( \\bar{y} \\): Durchschnitt der tatsächlichen Werte der abhängigen Variable\n",
    "\n",
    "### Beispiel in Python\n",
    "Hier ist ein Beispiel, wie man den R²-Wert in Python berechnet und interpretiert:\n",
    "\n"
   ]
  },
  {
   "cell_type": "code",
   "execution_count": 24,
   "id": "df0b2f08",
   "metadata": {},
   "outputs": [
    {
     "name": "stdout",
     "output_type": "stream",
     "text": [
      "R²-Wert: 1.00\n"
     ]
    }
   ],
   "source": [
    "import pandas as pd\n",
    "import statsmodels.api as sm\n",
    "\n",
    "# Beispiel-Daten\n",
    "data = {\n",
    "    'Größe': [50, 60, 70, 80, 90],\n",
    "    'Zimmer': [1, 2, 2, 3, 3],\n",
    "    'Preis': [200000, 250000, 300000, 350000, 400000]\n",
    "}\n",
    "df = pd.DataFrame(data)\n",
    "\n",
    "# Unabhängige Variablen (Größe und Zimmer)\n",
    "X = df[['Größe', 'Zimmer']]\n",
    "X = sm.add_constant(X)  # Konstante hinzufügen\n",
    "\n",
    "# Abhängige Variable (Preis)\n",
    "y = df['Preis']\n",
    "\n",
    "# Lineares Regressionsmodell erstellen\n",
    "model = sm.OLS(y, X).fit()\n",
    "\n",
    "# R²-Wert anzeigen\n",
    "r_squared = model.rsquared\n",
    "print(f'R²-Wert: {r_squared:.2f}')"
   ]
  },
  {
   "cell_type": "markdown",
   "id": "89920f2c",
   "metadata": {},
   "source": [
    "\n",
    "\n",
    "### Interpretation des Ergebnisses\n",
    "Wenn der R²-Wert beispielsweise 0.92 beträgt, bedeutet das, dass 92% der Varianz der Hauspreise durch die Größe und die Anzahl der Zimmer erklärt werden. Dies deutet darauf hin, dass das Modell eine gute Anpassung an die Daten hat.\n",
    "\n",
    "### Wichtige Hinweise\n",
    "- Ein hoher R²-Wert bedeutet nicht unbedingt, dass das Modell gut ist. Es kann auch auf Überanpassung (Overfitting) hinweisen.\n",
    "- Der R²-Wert allein reicht nicht aus, um die Güte eines Modells zu beurteilen. Es sollten auch andere Metriken und Validierungsmethoden verwendet werden.\n",
    "\n",
    "Ich hoffe, das hilft Ihnen, den R²-Wert besser zu verstehen!"
   ]
  },
  {
   "cell_type": "markdown",
   "id": "b11bfa54",
   "metadata": {},
   "source": [
    "\n",
    "\n",
    "Diese Beispiele zeigen, wie man lineare Regressionsmodelle in verschiedenen Kontexten anwenden kann, um Vorhersagen zu treffen und die Ergebnisse zu analysieren."
   ]
  },
  {
   "cell_type": "markdown",
   "id": "d18c6182",
   "metadata": {},
   "source": [
    "### Jupyter notebook --footer info-- (please always provide this at the end of each notebook)"
   ]
  },
  {
   "cell_type": "code",
   "execution_count": 20,
   "id": "64f26a9e",
   "metadata": {},
   "outputs": [
    {
     "name": "stdout",
     "output_type": "stream",
     "text": [
      "-----------------------------------\n",
      "POSIX\n",
      "Linux | 6.5.0-1025-azure\n",
      "Datetime: 2024-10-28 17:16:29\n",
      "Python Version: 3.11.10\n",
      "-----------------------------------\n"
     ]
    }
   ],
   "source": [
    "import os\n",
    "import platform\n",
    "import socket\n",
    "from platform import python_version\n",
    "from datetime import datetime\n",
    "\n",
    "print('-----------------------------------')\n",
    "print(os.name.upper())\n",
    "print(platform.system(), '|', platform.release())\n",
    "print('Datetime:', datetime.now().strftime(\"%Y-%m-%d %H:%M:%S\"))\n",
    "print('Python Version:', python_version())\n",
    "print('-----------------------------------')"
   ]
  }
 ],
 "metadata": {
  "kernelspec": {
   "display_name": "Python 3",
   "language": "python",
   "name": "python3"
  },
  "language_info": {
   "codemirror_mode": {
    "name": "ipython",
    "version": 3
   },
   "file_extension": ".py",
   "mimetype": "text/x-python",
   "name": "python",
   "nbconvert_exporter": "python",
   "pygments_lexer": "ipython3",
   "version": "3.11.10"
  }
 },
 "nbformat": 4,
 "nbformat_minor": 5
}
